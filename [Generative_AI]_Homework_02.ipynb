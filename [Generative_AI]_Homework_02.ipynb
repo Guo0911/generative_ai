{
  "nbformat": 4,
  "nbformat_minor": 0,
  "metadata": {
    "anaconda-cloud": {},
    "colab": {
      "provenance": [],
      "include_colab_link": true
    },
    "kernelspec": {
      "display_name": "Python 3",
      "name": "python3"
    },
    "language_info": {
      "name": "python"
    },
    "widgets": {
      "application/vnd.jupyter.widget-state+json": {
        "a6f5a962e1a8468b8f87aba70041b207": {
          "model_module": "@jupyter-widgets/controls",
          "model_name": "VBoxModel",
          "model_module_version": "1.5.0",
          "state": {
            "_dom_classes": [
              "widget-interact"
            ],
            "_model_module": "@jupyter-widgets/controls",
            "_model_module_version": "1.5.0",
            "_model_name": "VBoxModel",
            "_view_count": null,
            "_view_module": "@jupyter-widgets/controls",
            "_view_module_version": "1.5.0",
            "_view_name": "VBoxView",
            "box_style": "",
            "children": [
              "IPY_MODEL_f198775e989c49bba567377270071fe9",
              "IPY_MODEL_0d506720303a4deca910bca3a6274391",
              "IPY_MODEL_0cf680936d844ad2974dab43154bb233"
            ],
            "layout": "IPY_MODEL_c8f4cf584b604c89bca37e3d9b13dc38"
          }
        },
        "f198775e989c49bba567377270071fe9": {
          "model_module": "@jupyter-widgets/controls",
          "model_name": "IntSliderModel",
          "model_module_version": "1.5.0",
          "state": {
            "_dom_classes": [],
            "_model_module": "@jupyter-widgets/controls",
            "_model_module_version": "1.5.0",
            "_model_name": "IntSliderModel",
            "_view_count": null,
            "_view_module": "@jupyter-widgets/controls",
            "_view_module_version": "1.5.0",
            "_view_name": "IntSliderView",
            "continuous_update": true,
            "description": "n",
            "description_tooltip": null,
            "disabled": false,
            "layout": "IPY_MODEL_35aff84e5c954fd9baa3fe45ff935b39",
            "max": 59999,
            "min": 0,
            "orientation": "horizontal",
            "readout": true,
            "readout_format": "d",
            "step": 1,
            "style": "IPY_MODEL_21826114a34f4ed5b252025dcab7385a",
            "value": 0
          }
        },
        "0d506720303a4deca910bca3a6274391": {
          "model_module": "@jupyter-widgets/controls",
          "model_name": "ButtonModel",
          "model_module_version": "1.5.0",
          "state": {
            "_dom_classes": [],
            "_model_module": "@jupyter-widgets/controls",
            "_model_module_version": "1.5.0",
            "_model_name": "ButtonModel",
            "_view_count": null,
            "_view_module": "@jupyter-widgets/controls",
            "_view_module_version": "1.5.0",
            "_view_name": "ButtonView",
            "button_style": "",
            "description": "Run Interact",
            "disabled": false,
            "icon": "",
            "layout": "IPY_MODEL_c3e070bc79824d73ab7be7d9ac955686",
            "style": "IPY_MODEL_2feab2805cc14911835ab34409db14cc",
            "tooltip": ""
          }
        },
        "0cf680936d844ad2974dab43154bb233": {
          "model_module": "@jupyter-widgets/output",
          "model_name": "OutputModel",
          "model_module_version": "1.0.0",
          "state": {
            "_dom_classes": [],
            "_model_module": "@jupyter-widgets/output",
            "_model_module_version": "1.0.0",
            "_model_name": "OutputModel",
            "_view_count": null,
            "_view_module": "@jupyter-widgets/output",
            "_view_module_version": "1.0.0",
            "_view_name": "OutputView",
            "layout": "IPY_MODEL_70afac9dcd394575892c40ebb70e46c2",
            "msg_id": "",
            "outputs": []
          }
        },
        "c8f4cf584b604c89bca37e3d9b13dc38": {
          "model_module": "@jupyter-widgets/base",
          "model_name": "LayoutModel",
          "model_module_version": "1.2.0",
          "state": {
            "_model_module": "@jupyter-widgets/base",
            "_model_module_version": "1.2.0",
            "_model_name": "LayoutModel",
            "_view_count": null,
            "_view_module": "@jupyter-widgets/base",
            "_view_module_version": "1.2.0",
            "_view_name": "LayoutView",
            "align_content": null,
            "align_items": null,
            "align_self": null,
            "border": null,
            "bottom": null,
            "display": null,
            "flex": null,
            "flex_flow": null,
            "grid_area": null,
            "grid_auto_columns": null,
            "grid_auto_flow": null,
            "grid_auto_rows": null,
            "grid_column": null,
            "grid_gap": null,
            "grid_row": null,
            "grid_template_areas": null,
            "grid_template_columns": null,
            "grid_template_rows": null,
            "height": null,
            "justify_content": null,
            "justify_items": null,
            "left": null,
            "margin": null,
            "max_height": null,
            "max_width": null,
            "min_height": null,
            "min_width": null,
            "object_fit": null,
            "object_position": null,
            "order": null,
            "overflow": null,
            "overflow_x": null,
            "overflow_y": null,
            "padding": null,
            "right": null,
            "top": null,
            "visibility": null,
            "width": null
          }
        },
        "35aff84e5c954fd9baa3fe45ff935b39": {
          "model_module": "@jupyter-widgets/base",
          "model_name": "LayoutModel",
          "model_module_version": "1.2.0",
          "state": {
            "_model_module": "@jupyter-widgets/base",
            "_model_module_version": "1.2.0",
            "_model_name": "LayoutModel",
            "_view_count": null,
            "_view_module": "@jupyter-widgets/base",
            "_view_module_version": "1.2.0",
            "_view_name": "LayoutView",
            "align_content": null,
            "align_items": null,
            "align_self": null,
            "border": null,
            "bottom": null,
            "display": null,
            "flex": null,
            "flex_flow": null,
            "grid_area": null,
            "grid_auto_columns": null,
            "grid_auto_flow": null,
            "grid_auto_rows": null,
            "grid_column": null,
            "grid_gap": null,
            "grid_row": null,
            "grid_template_areas": null,
            "grid_template_columns": null,
            "grid_template_rows": null,
            "height": null,
            "justify_content": null,
            "justify_items": null,
            "left": null,
            "margin": null,
            "max_height": null,
            "max_width": null,
            "min_height": null,
            "min_width": null,
            "object_fit": null,
            "object_position": null,
            "order": null,
            "overflow": null,
            "overflow_x": null,
            "overflow_y": null,
            "padding": null,
            "right": null,
            "top": null,
            "visibility": null,
            "width": null
          }
        },
        "21826114a34f4ed5b252025dcab7385a": {
          "model_module": "@jupyter-widgets/controls",
          "model_name": "SliderStyleModel",
          "model_module_version": "1.5.0",
          "state": {
            "_model_module": "@jupyter-widgets/controls",
            "_model_module_version": "1.5.0",
            "_model_name": "SliderStyleModel",
            "_view_count": null,
            "_view_module": "@jupyter-widgets/base",
            "_view_module_version": "1.2.0",
            "_view_name": "StyleView",
            "description_width": "",
            "handle_color": null
          }
        },
        "c3e070bc79824d73ab7be7d9ac955686": {
          "model_module": "@jupyter-widgets/base",
          "model_name": "LayoutModel",
          "model_module_version": "1.2.0",
          "state": {
            "_model_module": "@jupyter-widgets/base",
            "_model_module_version": "1.2.0",
            "_model_name": "LayoutModel",
            "_view_count": null,
            "_view_module": "@jupyter-widgets/base",
            "_view_module_version": "1.2.0",
            "_view_name": "LayoutView",
            "align_content": null,
            "align_items": null,
            "align_self": null,
            "border": null,
            "bottom": null,
            "display": null,
            "flex": null,
            "flex_flow": null,
            "grid_area": null,
            "grid_auto_columns": null,
            "grid_auto_flow": null,
            "grid_auto_rows": null,
            "grid_column": null,
            "grid_gap": null,
            "grid_row": null,
            "grid_template_areas": null,
            "grid_template_columns": null,
            "grid_template_rows": null,
            "height": null,
            "justify_content": null,
            "justify_items": null,
            "left": null,
            "margin": null,
            "max_height": null,
            "max_width": null,
            "min_height": null,
            "min_width": null,
            "object_fit": null,
            "object_position": null,
            "order": null,
            "overflow": null,
            "overflow_x": null,
            "overflow_y": null,
            "padding": null,
            "right": null,
            "top": null,
            "visibility": null,
            "width": null
          }
        },
        "2feab2805cc14911835ab34409db14cc": {
          "model_module": "@jupyter-widgets/controls",
          "model_name": "ButtonStyleModel",
          "model_module_version": "1.5.0",
          "state": {
            "_model_module": "@jupyter-widgets/controls",
            "_model_module_version": "1.5.0",
            "_model_name": "ButtonStyleModel",
            "_view_count": null,
            "_view_module": "@jupyter-widgets/base",
            "_view_module_version": "1.2.0",
            "_view_name": "StyleView",
            "button_color": null,
            "font_weight": ""
          }
        },
        "70afac9dcd394575892c40ebb70e46c2": {
          "model_module": "@jupyter-widgets/base",
          "model_name": "LayoutModel",
          "model_module_version": "1.2.0",
          "state": {
            "_model_module": "@jupyter-widgets/base",
            "_model_module_version": "1.2.0",
            "_model_name": "LayoutModel",
            "_view_count": null,
            "_view_module": "@jupyter-widgets/base",
            "_view_module_version": "1.2.0",
            "_view_name": "LayoutView",
            "align_content": null,
            "align_items": null,
            "align_self": null,
            "border": null,
            "bottom": null,
            "display": null,
            "flex": null,
            "flex_flow": null,
            "grid_area": null,
            "grid_auto_columns": null,
            "grid_auto_flow": null,
            "grid_auto_rows": null,
            "grid_column": null,
            "grid_gap": null,
            "grid_row": null,
            "grid_template_areas": null,
            "grid_template_columns": null,
            "grid_template_rows": null,
            "height": null,
            "justify_content": null,
            "justify_items": null,
            "left": null,
            "margin": null,
            "max_height": null,
            "max_width": null,
            "min_height": null,
            "min_width": null,
            "object_fit": null,
            "object_position": null,
            "order": null,
            "overflow": null,
            "overflow_x": null,
            "overflow_y": null,
            "padding": null,
            "right": null,
            "top": null,
            "visibility": null,
            "width": null
          }
        }
      }
    },
    "accelerator": "GPU"
  },
  "cells": [
    {
      "cell_type": "markdown",
      "metadata": {
        "id": "view-in-github",
        "colab_type": "text"
      },
      "source": [
        "<a href=\"https://colab.research.google.com/github/Guo0911/generative_ai/blob/main/%5BGenerative_AI%5D_Homework_02.ipynb\" target=\"_parent\"><img src=\"https://colab.research.google.com/assets/colab-badge.svg\" alt=\"Open In Colab\"/></a>"
      ]
    },
    {
      "cell_type": "markdown",
      "metadata": {
        "id": "RkYdA5re0Ave"
      },
      "source": [
        "## 1. 導入套件"
      ]
    },
    {
      "cell_type": "markdown",
      "source": [
        "### 安裝 Gradio"
      ],
      "metadata": {
        "id": "_-kPrs4tQQt7"
      }
    },
    {
      "cell_type": "code",
      "source": [
        "!pip install gradio"
      ],
      "metadata": {
        "colab": {
          "base_uri": "https://localhost:8080/"
        },
        "id": "fdIz5z2klW4S",
        "outputId": "e92e519f-77f1-4152-b83a-4d90b766c36d",
        "collapsed": true
      },
      "execution_count": 1,
      "outputs": [
        {
          "output_type": "stream",
          "name": "stdout",
          "text": [
            "Requirement already satisfied: gradio in /usr/local/lib/python3.11/dist-packages (5.20.1)\n",
            "Requirement already satisfied: aiofiles<24.0,>=22.0 in /usr/local/lib/python3.11/dist-packages (from gradio) (23.2.1)\n",
            "Requirement already satisfied: anyio<5.0,>=3.0 in /usr/local/lib/python3.11/dist-packages (from gradio) (3.7.1)\n",
            "Requirement already satisfied: fastapi<1.0,>=0.115.2 in /usr/local/lib/python3.11/dist-packages (from gradio) (0.115.11)\n",
            "Requirement already satisfied: ffmpy in /usr/local/lib/python3.11/dist-packages (from gradio) (0.5.0)\n",
            "Requirement already satisfied: gradio-client==1.7.2 in /usr/local/lib/python3.11/dist-packages (from gradio) (1.7.2)\n",
            "Requirement already satisfied: groovy~=0.1 in /usr/local/lib/python3.11/dist-packages (from gradio) (0.1.2)\n",
            "Requirement already satisfied: httpx>=0.24.1 in /usr/local/lib/python3.11/dist-packages (from gradio) (0.28.1)\n",
            "Requirement already satisfied: huggingface-hub>=0.28.1 in /usr/local/lib/python3.11/dist-packages (from gradio) (0.28.1)\n",
            "Requirement already satisfied: jinja2<4.0 in /usr/local/lib/python3.11/dist-packages (from gradio) (3.1.6)\n",
            "Requirement already satisfied: markupsafe~=2.0 in /usr/local/lib/python3.11/dist-packages (from gradio) (2.1.5)\n",
            "Requirement already satisfied: numpy<3.0,>=1.0 in /usr/local/lib/python3.11/dist-packages (from gradio) (1.26.4)\n",
            "Requirement already satisfied: orjson~=3.0 in /usr/local/lib/python3.11/dist-packages (from gradio) (3.10.15)\n",
            "Requirement already satisfied: packaging in /usr/local/lib/python3.11/dist-packages (from gradio) (24.2)\n",
            "Requirement already satisfied: pandas<3.0,>=1.0 in /usr/local/lib/python3.11/dist-packages (from gradio) (2.2.2)\n",
            "Requirement already satisfied: pillow<12.0,>=8.0 in /usr/local/lib/python3.11/dist-packages (from gradio) (11.1.0)\n",
            "Requirement already satisfied: pydantic>=2.0 in /usr/local/lib/python3.11/dist-packages (from gradio) (2.10.6)\n",
            "Requirement already satisfied: pydub in /usr/local/lib/python3.11/dist-packages (from gradio) (0.25.1)\n",
            "Requirement already satisfied: python-multipart>=0.0.18 in /usr/local/lib/python3.11/dist-packages (from gradio) (0.0.20)\n",
            "Requirement already satisfied: pyyaml<7.0,>=5.0 in /usr/local/lib/python3.11/dist-packages (from gradio) (6.0.2)\n",
            "Requirement already satisfied: ruff>=0.9.3 in /usr/local/lib/python3.11/dist-packages (from gradio) (0.9.10)\n",
            "Requirement already satisfied: safehttpx<0.2.0,>=0.1.6 in /usr/local/lib/python3.11/dist-packages (from gradio) (0.1.6)\n",
            "Requirement already satisfied: semantic-version~=2.0 in /usr/local/lib/python3.11/dist-packages (from gradio) (2.10.0)\n",
            "Requirement already satisfied: starlette<1.0,>=0.40.0 in /usr/local/lib/python3.11/dist-packages (from gradio) (0.46.1)\n",
            "Requirement already satisfied: tomlkit<0.14.0,>=0.12.0 in /usr/local/lib/python3.11/dist-packages (from gradio) (0.13.2)\n",
            "Requirement already satisfied: typer<1.0,>=0.12 in /usr/local/lib/python3.11/dist-packages (from gradio) (0.15.2)\n",
            "Requirement already satisfied: typing-extensions~=4.0 in /usr/local/lib/python3.11/dist-packages (from gradio) (4.12.2)\n",
            "Requirement already satisfied: uvicorn>=0.14.0 in /usr/local/lib/python3.11/dist-packages (from gradio) (0.34.0)\n",
            "Requirement already satisfied: fsspec in /usr/local/lib/python3.11/dist-packages (from gradio-client==1.7.2->gradio) (2024.10.0)\n",
            "Requirement already satisfied: websockets<16.0,>=10.0 in /usr/local/lib/python3.11/dist-packages (from gradio-client==1.7.2->gradio) (14.2)\n",
            "Requirement already satisfied: idna>=2.8 in /usr/local/lib/python3.11/dist-packages (from anyio<5.0,>=3.0->gradio) (3.10)\n",
            "Requirement already satisfied: sniffio>=1.1 in /usr/local/lib/python3.11/dist-packages (from anyio<5.0,>=3.0->gradio) (1.3.1)\n",
            "Requirement already satisfied: certifi in /usr/local/lib/python3.11/dist-packages (from httpx>=0.24.1->gradio) (2025.1.31)\n",
            "Requirement already satisfied: httpcore==1.* in /usr/local/lib/python3.11/dist-packages (from httpx>=0.24.1->gradio) (1.0.7)\n",
            "Requirement already satisfied: h11<0.15,>=0.13 in /usr/local/lib/python3.11/dist-packages (from httpcore==1.*->httpx>=0.24.1->gradio) (0.14.0)\n",
            "Requirement already satisfied: filelock in /usr/local/lib/python3.11/dist-packages (from huggingface-hub>=0.28.1->gradio) (3.17.0)\n",
            "Requirement already satisfied: requests in /usr/local/lib/python3.11/dist-packages (from huggingface-hub>=0.28.1->gradio) (2.32.3)\n",
            "Requirement already satisfied: tqdm>=4.42.1 in /usr/local/lib/python3.11/dist-packages (from huggingface-hub>=0.28.1->gradio) (4.67.1)\n",
            "Requirement already satisfied: python-dateutil>=2.8.2 in /usr/local/lib/python3.11/dist-packages (from pandas<3.0,>=1.0->gradio) (2.8.2)\n",
            "Requirement already satisfied: pytz>=2020.1 in /usr/local/lib/python3.11/dist-packages (from pandas<3.0,>=1.0->gradio) (2025.1)\n",
            "Requirement already satisfied: tzdata>=2022.7 in /usr/local/lib/python3.11/dist-packages (from pandas<3.0,>=1.0->gradio) (2025.1)\n",
            "Requirement already satisfied: annotated-types>=0.6.0 in /usr/local/lib/python3.11/dist-packages (from pydantic>=2.0->gradio) (0.7.0)\n",
            "Requirement already satisfied: pydantic-core==2.27.2 in /usr/local/lib/python3.11/dist-packages (from pydantic>=2.0->gradio) (2.27.2)\n",
            "Requirement already satisfied: click>=8.0.0 in /usr/local/lib/python3.11/dist-packages (from typer<1.0,>=0.12->gradio) (8.1.8)\n",
            "Requirement already satisfied: shellingham>=1.3.0 in /usr/local/lib/python3.11/dist-packages (from typer<1.0,>=0.12->gradio) (1.5.4)\n",
            "Requirement already satisfied: rich>=10.11.0 in /usr/local/lib/python3.11/dist-packages (from typer<1.0,>=0.12->gradio) (13.9.4)\n",
            "Requirement already satisfied: six>=1.5 in /usr/local/lib/python3.11/dist-packages (from python-dateutil>=2.8.2->pandas<3.0,>=1.0->gradio) (1.17.0)\n",
            "Requirement already satisfied: markdown-it-py>=2.2.0 in /usr/local/lib/python3.11/dist-packages (from rich>=10.11.0->typer<1.0,>=0.12->gradio) (3.0.0)\n",
            "Requirement already satisfied: pygments<3.0.0,>=2.13.0 in /usr/local/lib/python3.11/dist-packages (from rich>=10.11.0->typer<1.0,>=0.12->gradio) (2.18.0)\n",
            "Requirement already satisfied: charset-normalizer<4,>=2 in /usr/local/lib/python3.11/dist-packages (from requests->huggingface-hub>=0.28.1->gradio) (3.4.1)\n",
            "Requirement already satisfied: urllib3<3,>=1.21.1 in /usr/local/lib/python3.11/dist-packages (from requests->huggingface-hub>=0.28.1->gradio) (2.3.0)\n",
            "Requirement already satisfied: mdurl~=0.1 in /usr/local/lib/python3.11/dist-packages (from markdown-it-py>=2.2.0->rich>=10.11.0->typer<1.0,>=0.12->gradio) (0.1.2)\n"
          ]
        }
      ]
    },
    {
      "cell_type": "markdown",
      "source": [
        "### 導入套件"
      ],
      "metadata": {
        "id": "Tqmm4ByNN4hp"
      }
    },
    {
      "cell_type": "code",
      "metadata": {
        "id": "pEq2NFpF0Avf"
      },
      "source": [
        "import numpy as np\n",
        "import gradio as gr\n",
        "import matplotlib.pyplot as plt\n",
        "\n",
        "from PIL import Image\n",
        "from ipywidgets import interact_manual\n",
        "\n",
        "# TensorFlow\n",
        "import tensorflow as tf\n",
        "from tensorflow.keras.datasets import mnist\n",
        "from tensorflow.keras.utils import to_categorical\n",
        "from tensorflow.keras.models import Sequential\n",
        "from tensorflow.keras.layers import Dense\n",
        "from tensorflow.keras.optimizers import SGD"
      ],
      "execution_count": 2,
      "outputs": []
    },
    {
      "cell_type": "markdown",
      "source": [
        "### 額外設定"
      ],
      "metadata": {
        "id": "x6YR42-4QF65"
      }
    },
    {
      "cell_type": "code",
      "source": [
        "# 讓 Colab 不會輸出警告或非必要的訊息\n",
        "import warnings\n",
        "warnings.filterwarnings(\"ignore\")\n",
        "\n",
        "# 讓 Matplotlib 圖表在 Jupyter Notebook 中直接顯示\n",
        "%matplotlib inline"
      ],
      "metadata": {
        "id": "kpLY8jWFPwl0"
      },
      "execution_count": 3,
      "outputs": []
    },
    {
      "cell_type": "markdown",
      "metadata": {
        "id": "yUOFB_020Avg"
      },
      "source": [
        "## 2. Dataset"
      ]
    },
    {
      "cell_type": "markdown",
      "source": [
        "### 使用 MNIST Dataset\n",
        " - 含有許多手寫數字 0 - 9 的影像數據\n",
        "  - 訓練集共有 6 萬筆資料\n",
        "  - 測試集共有 1 萬筆資料"
      ],
      "metadata": {
        "id": "RZie6AAwRKJJ"
      }
    },
    {
      "cell_type": "code",
      "metadata": {
        "id": "LKuZWeVy0Avg"
      },
      "source": [
        "# 由 Keras 直接下載並載入 MNIST dataset\n",
        "(x_train, y_train), (x_test, y_test) = mnist.load_data()"
      ],
      "execution_count": 4,
      "outputs": []
    },
    {
      "cell_type": "code",
      "metadata": {
        "colab": {
          "base_uri": "https://localhost:8080/"
        },
        "id": "Z_8DkCJC0Avh",
        "outputId": "3c9a8b57-5c81-43f7-bff9-d2d1b2f8557b"
      },
      "source": [
        "# 檢查資料筆數\n",
        "print(f'訓練資料總筆數為 {len(x_train)} 筆資料')\n",
        "print(f'測試資料總筆數為 {len(x_test)} 筆資料')"
      ],
      "execution_count": 5,
      "outputs": [
        {
          "output_type": "stream",
          "name": "stdout",
          "text": [
            "訓練資料總筆數為 60000 筆資料\n",
            "測試資料總筆數為 10000 筆資料\n"
          ]
        }
      ]
    },
    {
      "cell_type": "markdown",
      "source": [
        "### 觀察影像和標記"
      ],
      "metadata": {
        "id": "NSdQjBZlUnsp"
      }
    },
    {
      "cell_type": "code",
      "metadata": {
        "id": "l5RwWLHx0Avi",
        "colab": {
          "base_uri": "https://localhost:8080/",
          "height": 81,
          "referenced_widgets": [
            "a6f5a962e1a8468b8f87aba70041b207",
            "f198775e989c49bba567377270071fe9",
            "0d506720303a4deca910bca3a6274391",
            "0cf680936d844ad2974dab43154bb233",
            "c8f4cf584b604c89bca37e3d9b13dc38",
            "35aff84e5c954fd9baa3fe45ff935b39",
            "21826114a34f4ed5b252025dcab7385a",
            "c3e070bc79824d73ab7be7d9ac955686",
            "2feab2805cc14911835ab34409db14cc",
            "70afac9dcd394575892c40ebb70e46c2"
          ]
        },
        "outputId": "1ccc00e0-de1c-4139-b066-812956654fcb"
      },
      "source": [
        "def show_image_and_label(n=0):\n",
        "    ax = plt.gca()\n",
        "\n",
        "    X = x_train[n]\n",
        "\n",
        "    plt.xticks([], []) # 把 x 軸的刻度拿掉\n",
        "    plt.yticks([], []) # 把 y 軸的刻度拿掉\n",
        "\n",
        "    plt.imshow(X, cmap = 'Greys')\n",
        "    print(f'這張影像的標記是 {y_train[n]}')\n",
        "\n",
        "interact_manual(show_image_and_label, n=(0,59999));"
      ],
      "execution_count": 6,
      "outputs": [
        {
          "output_type": "display_data",
          "data": {
            "text/plain": [
              "interactive(children=(IntSlider(value=0, description='n', max=59999), Button(description='Run Interact', style…"
            ],
            "application/vnd.jupyter.widget-view+json": {
              "version_major": 2,
              "version_minor": 0,
              "model_id": "a6f5a962e1a8468b8f87aba70041b207"
            }
          },
          "metadata": {}
        }
      ]
    },
    {
      "cell_type": "markdown",
      "source": [
        "### Normalize"
      ],
      "metadata": {
        "id": "YYHNKyOfUsE1"
      }
    },
    {
      "cell_type": "markdown",
      "metadata": {
        "id": "fOPj5Mh50Avk"
      },
      "source": [
        "目前的影像資料是一個 $28 \\times 28$ 的陣列，並且數值範圍為 0 ~ 255\n",
        " - 把影像資料從 2D 轉為 1D\n",
        " - 將數值做 Normalize"
      ]
    },
    {
      "cell_type": "code",
      "source": [
        "# 顯示數值範圍\n",
        "print('所有影像中最大的數值為:', x_train.max())\n",
        "print('所有影像中最小的數值為:', x_train.min())"
      ],
      "metadata": {
        "colab": {
          "base_uri": "https://localhost:8080/"
        },
        "id": "LBWyDYv1VMZS",
        "outputId": "7e36520e-5c89-407c-e82d-0acfbe2216fa"
      },
      "execution_count": 7,
      "outputs": [
        {
          "output_type": "stream",
          "name": "stdout",
          "text": [
            "所有影像中最大的數值為: 255\n",
            "所有影像中最小的數值為: 0\n"
          ]
        }
      ]
    },
    {
      "cell_type": "code",
      "metadata": {
        "id": "pT7oXt8B0Avk",
        "colab": {
          "base_uri": "https://localhost:8080/"
        },
        "outputId": "50af1ca1-4bee-4d8a-fabb-6f38f0e3633c"
      },
      "source": [
        "# 把數值 Normalize 到 [0, 1] 的區間\n",
        "x_train = x_train.reshape(60000, 784)/255\n",
        "x_test = x_test.reshape(10000, 784)/255\n",
        "\n",
        "# 顯示數值範圍\n",
        "print('所有影像中最大的數值為:', x_train.max())\n",
        "print('所有影像中最小的數值為:', x_train.min())"
      ],
      "execution_count": 8,
      "outputs": [
        {
          "output_type": "stream",
          "name": "stdout",
          "text": [
            "所有影像中最大的數值為: 1.0\n",
            "所有影像中最小的數值為: 0.0\n"
          ]
        }
      ]
    },
    {
      "cell_type": "markdown",
      "metadata": {
        "id": "mQmajlcm0Avl"
      },
      "source": [
        "### 調整 label 方式"
      ]
    },
    {
      "cell_type": "markdown",
      "source": [
        "目前的 label 是直接輸出數值 (例如影像是 5 的話，標記就是 5)\n",
        "\n",
        "但通常 Classfication 的任務會透過 one-hot-encoding 的方式輸出結果\n",
        " - 例如，有三個類別 [ 貓, 狗, 人 ] 則標記為貓時應該是 [ 1, 0, 0 ]\n",
        "\n",
        "因此需要調整目前標記的方式，讓每個標記都是一個陣列，並且在對應位置的數值為 1，其他為 0"
      ],
      "metadata": {
        "id": "Lf-mkZCMWm6T"
      }
    },
    {
      "cell_type": "code",
      "metadata": {
        "id": "_i22oLVf0Avl",
        "colab": {
          "base_uri": "https://localhost:8080/"
        },
        "outputId": "dee09012-e95a-48d2-bda7-d60b7c5933b1"
      },
      "source": [
        "print(f'訓練集的第一筆資料目前的 label 是', y_train[0])\n",
        "print(f'測試集的第一筆資料目前的 label 是', y_test[0])\n",
        "\n",
        "y_train = to_categorical(y_train, 10)\n",
        "y_test = to_categorical(y_test, 10)\n",
        "\n",
        "print(f'調整後，訓練集的第一筆資料的 label 是', y_train[0])\n",
        "print(f'調整後，測試集的第一筆資料的 label 是', y_test[0])"
      ],
      "execution_count": 9,
      "outputs": [
        {
          "output_type": "stream",
          "name": "stdout",
          "text": [
            "訓練集的第一筆資料目前的 label 是 5\n",
            "測試集的第一筆資料目前的 label 是 7\n",
            "調整後，訓練集的第一筆資料的 label 是 [0. 0. 0. 0. 0. 1. 0. 0. 0. 0.]\n",
            "調整後，測試集的第一筆資料的 label 是 [0. 0. 0. 0. 0. 0. 0. 1. 0. 0.]\n"
          ]
        }
      ]
    },
    {
      "cell_type": "markdown",
      "metadata": {
        "id": "4MDhWZk10Avm"
      },
      "source": [
        "## 3. 設定 NN 的架構"
      ]
    },
    {
      "cell_type": "markdown",
      "source": [
        "因為後面 training 時會測試不同參數的效果，所以這邊改成用 function 來建構 NN"
      ],
      "metadata": {
        "id": "Os0E6rqycTnX"
      }
    },
    {
      "cell_type": "code",
      "metadata": {
        "id": "F_fx6jw80Avm",
        "colab": {
          "base_uri": "https://localhost:8080/",
          "height": 257
        },
        "outputId": "8328bddc-687c-4dc8-cad5-34dd8cd4b49d"
      },
      "source": [
        "def create_model(dim=[20, 15, 10], loss_function='mse'): # dim 是一個陣列，決定每層的維度\n",
        "  nn = Sequential()\n",
        "\n",
        "  # input layer 與影像大小相同，因此需要設定為 784，並使用 ReLU 作為激活函數\n",
        "  nn.add(Dense(dim[0], input_dim=784, activation='relu'))\n",
        "\n",
        "  # hidden layer，依照傳入的 dim 來決定層數和維度\n",
        "  for d in dim[1:]:\n",
        "    nn.add(Dense(d, activation='relu'))\n",
        "\n",
        "  # output layer\n",
        "  nn.add(Dense(10, activation='softmax')) # 使用 Softmax 讓所有類別的機率總合為 1\n",
        "\n",
        "  # 模型的 Loss Function 採用 MSE\n",
        "  nn.compile(loss=loss_function, optimizer=SGD(learning_rate=0.087), metrics=['accuracy'])\n",
        "\n",
        "  return nn\n",
        "\n",
        "model = create_model()\n",
        "\n",
        "# 檢視 NN 的架構\n",
        "model.summary()"
      ],
      "execution_count": 10,
      "outputs": [
        {
          "output_type": "display_data",
          "data": {
            "text/plain": [
              "\u001b[1mModel: \"sequential\"\u001b[0m\n"
            ],
            "text/html": [
              "<pre style=\"white-space:pre;overflow-x:auto;line-height:normal;font-family:Menlo,'DejaVu Sans Mono',consolas,'Courier New',monospace\"><span style=\"font-weight: bold\">Model: \"sequential\"</span>\n",
              "</pre>\n"
            ]
          },
          "metadata": {}
        },
        {
          "output_type": "display_data",
          "data": {
            "text/plain": [
              "┏━━━━━━━━━━━━━━━━━━━━━━━━━━━━━━━━━━━━━━┳━━━━━━━━━━━━━━━━━━━━━━━━━━━━━┳━━━━━━━━━━━━━━━━━┓\n",
              "┃\u001b[1m \u001b[0m\u001b[1mLayer (type)                        \u001b[0m\u001b[1m \u001b[0m┃\u001b[1m \u001b[0m\u001b[1mOutput Shape               \u001b[0m\u001b[1m \u001b[0m┃\u001b[1m \u001b[0m\u001b[1m        Param #\u001b[0m\u001b[1m \u001b[0m┃\n",
              "┡━━━━━━━━━━━━━━━━━━━━━━━━━━━━━━━━━━━━━━╇━━━━━━━━━━━━━━━━━━━━━━━━━━━━━╇━━━━━━━━━━━━━━━━━┩\n",
              "│ dense (\u001b[38;5;33mDense\u001b[0m)                        │ (\u001b[38;5;45mNone\u001b[0m, \u001b[38;5;34m20\u001b[0m)                  │          \u001b[38;5;34m15,700\u001b[0m │\n",
              "├──────────────────────────────────────┼─────────────────────────────┼─────────────────┤\n",
              "│ dense_1 (\u001b[38;5;33mDense\u001b[0m)                      │ (\u001b[38;5;45mNone\u001b[0m, \u001b[38;5;34m15\u001b[0m)                  │             \u001b[38;5;34m315\u001b[0m │\n",
              "├──────────────────────────────────────┼─────────────────────────────┼─────────────────┤\n",
              "│ dense_2 (\u001b[38;5;33mDense\u001b[0m)                      │ (\u001b[38;5;45mNone\u001b[0m, \u001b[38;5;34m10\u001b[0m)                  │             \u001b[38;5;34m160\u001b[0m │\n",
              "├──────────────────────────────────────┼─────────────────────────────┼─────────────────┤\n",
              "│ dense_3 (\u001b[38;5;33mDense\u001b[0m)                      │ (\u001b[38;5;45mNone\u001b[0m, \u001b[38;5;34m10\u001b[0m)                  │             \u001b[38;5;34m110\u001b[0m │\n",
              "└──────────────────────────────────────┴─────────────────────────────┴─────────────────┘\n"
            ],
            "text/html": [
              "<pre style=\"white-space:pre;overflow-x:auto;line-height:normal;font-family:Menlo,'DejaVu Sans Mono',consolas,'Courier New',monospace\">┏━━━━━━━━━━━━━━━━━━━━━━━━━━━━━━━━━━━━━━┳━━━━━━━━━━━━━━━━━━━━━━━━━━━━━┳━━━━━━━━━━━━━━━━━┓\n",
              "┃<span style=\"font-weight: bold\"> Layer (type)                         </span>┃<span style=\"font-weight: bold\"> Output Shape                </span>┃<span style=\"font-weight: bold\">         Param # </span>┃\n",
              "┡━━━━━━━━━━━━━━━━━━━━━━━━━━━━━━━━━━━━━━╇━━━━━━━━━━━━━━━━━━━━━━━━━━━━━╇━━━━━━━━━━━━━━━━━┩\n",
              "│ dense (<span style=\"color: #0087ff; text-decoration-color: #0087ff\">Dense</span>)                        │ (<span style=\"color: #00d7ff; text-decoration-color: #00d7ff\">None</span>, <span style=\"color: #00af00; text-decoration-color: #00af00\">20</span>)                  │          <span style=\"color: #00af00; text-decoration-color: #00af00\">15,700</span> │\n",
              "├──────────────────────────────────────┼─────────────────────────────┼─────────────────┤\n",
              "│ dense_1 (<span style=\"color: #0087ff; text-decoration-color: #0087ff\">Dense</span>)                      │ (<span style=\"color: #00d7ff; text-decoration-color: #00d7ff\">None</span>, <span style=\"color: #00af00; text-decoration-color: #00af00\">15</span>)                  │             <span style=\"color: #00af00; text-decoration-color: #00af00\">315</span> │\n",
              "├──────────────────────────────────────┼─────────────────────────────┼─────────────────┤\n",
              "│ dense_2 (<span style=\"color: #0087ff; text-decoration-color: #0087ff\">Dense</span>)                      │ (<span style=\"color: #00d7ff; text-decoration-color: #00d7ff\">None</span>, <span style=\"color: #00af00; text-decoration-color: #00af00\">10</span>)                  │             <span style=\"color: #00af00; text-decoration-color: #00af00\">160</span> │\n",
              "├──────────────────────────────────────┼─────────────────────────────┼─────────────────┤\n",
              "│ dense_3 (<span style=\"color: #0087ff; text-decoration-color: #0087ff\">Dense</span>)                      │ (<span style=\"color: #00d7ff; text-decoration-color: #00d7ff\">None</span>, <span style=\"color: #00af00; text-decoration-color: #00af00\">10</span>)                  │             <span style=\"color: #00af00; text-decoration-color: #00af00\">110</span> │\n",
              "└──────────────────────────────────────┴─────────────────────────────┴─────────────────┘\n",
              "</pre>\n"
            ]
          },
          "metadata": {}
        },
        {
          "output_type": "display_data",
          "data": {
            "text/plain": [
              "\u001b[1m Total params: \u001b[0m\u001b[38;5;34m16,285\u001b[0m (63.61 KB)\n"
            ],
            "text/html": [
              "<pre style=\"white-space:pre;overflow-x:auto;line-height:normal;font-family:Menlo,'DejaVu Sans Mono',consolas,'Courier New',monospace\"><span style=\"font-weight: bold\"> Total params: </span><span style=\"color: #00af00; text-decoration-color: #00af00\">16,285</span> (63.61 KB)\n",
              "</pre>\n"
            ]
          },
          "metadata": {}
        },
        {
          "output_type": "display_data",
          "data": {
            "text/plain": [
              "\u001b[1m Trainable params: \u001b[0m\u001b[38;5;34m16,285\u001b[0m (63.61 KB)\n"
            ],
            "text/html": [
              "<pre style=\"white-space:pre;overflow-x:auto;line-height:normal;font-family:Menlo,'DejaVu Sans Mono',consolas,'Courier New',monospace\"><span style=\"font-weight: bold\"> Trainable params: </span><span style=\"color: #00af00; text-decoration-color: #00af00\">16,285</span> (63.61 KB)\n",
              "</pre>\n"
            ]
          },
          "metadata": {}
        },
        {
          "output_type": "display_data",
          "data": {
            "text/plain": [
              "\u001b[1m Non-trainable params: \u001b[0m\u001b[38;5;34m0\u001b[0m (0.00 B)\n"
            ],
            "text/html": [
              "<pre style=\"white-space:pre;overflow-x:auto;line-height:normal;font-family:Menlo,'DejaVu Sans Mono',consolas,'Courier New',monospace\"><span style=\"font-weight: bold\"> Non-trainable params: </span><span style=\"color: #00af00; text-decoration-color: #00af00\">0</span> (0.00 B)\n",
              "</pre>\n"
            ]
          },
          "metadata": {}
        }
      ]
    },
    {
      "cell_type": "markdown",
      "metadata": {
        "id": "R5VHPpfd0Avp"
      },
      "source": [
        "## 4. 訓練 NN"
      ]
    },
    {
      "cell_type": "code",
      "metadata": {
        "colab": {
          "base_uri": "https://localhost:8080/"
        },
        "id": "1jwuUx4a0Avq",
        "outputId": "84fc30e2-9b22-4b36-b3bb-fc3ef5d10804",
        "collapsed": true
      },
      "source": [
        "# 需要設定 batch size 和 epochs\n",
        "# 其中 batch size 代表一次要訓練多少筆資料，例如 100 就是每次都從 100 張影像中學習 (因為有 6 萬張影像，所以會學習 600 次)\n",
        "# 而 epochs 代表要重複學習多少次，假設 epochs 為 2，則代表會把 6 萬張影像都學習過 2 次\n",
        "\n",
        "model_1 = create_model(dim=[20, 20, 20]) # 跟範例一樣的設定\n",
        "model_1.fit(x_train, y_train, batch_size=100, epochs=10)"
      ],
      "execution_count": 11,
      "outputs": [
        {
          "output_type": "stream",
          "name": "stdout",
          "text": [
            "Epoch 1/10\n",
            "\u001b[1m600/600\u001b[0m \u001b[32m━━━━━━━━━━━━━━━━━━━━\u001b[0m\u001b[37m\u001b[0m \u001b[1m6s\u001b[0m 6ms/step - accuracy: 0.1018 - loss: 0.0894\n",
            "Epoch 2/10\n",
            "\u001b[1m600/600\u001b[0m \u001b[32m━━━━━━━━━━━━━━━━━━━━\u001b[0m\u001b[37m\u001b[0m \u001b[1m2s\u001b[0m 4ms/step - accuracy: 0.2520 - loss: 0.0842\n",
            "Epoch 3/10\n",
            "\u001b[1m600/600\u001b[0m \u001b[32m━━━━━━━━━━━━━━━━━━━━\u001b[0m\u001b[37m\u001b[0m \u001b[1m3s\u001b[0m 4ms/step - accuracy: 0.4691 - loss: 0.0726\n",
            "Epoch 4/10\n",
            "\u001b[1m600/600\u001b[0m \u001b[32m━━━━━━━━━━━━━━━━━━━━\u001b[0m\u001b[37m\u001b[0m \u001b[1m1s\u001b[0m 2ms/step - accuracy: 0.6226 - loss: 0.0550\n",
            "Epoch 5/10\n",
            "\u001b[1m600/600\u001b[0m \u001b[32m━━━━━━━━━━━━━━━━━━━━\u001b[0m\u001b[37m\u001b[0m \u001b[1m1s\u001b[0m 2ms/step - accuracy: 0.7857 - loss: 0.0357\n",
            "Epoch 6/10\n",
            "\u001b[1m600/600\u001b[0m \u001b[32m━━━━━━━━━━━━━━━━━━━━\u001b[0m\u001b[37m\u001b[0m \u001b[1m3s\u001b[0m 3ms/step - accuracy: 0.8375 - loss: 0.0259\n",
            "Epoch 7/10\n",
            "\u001b[1m600/600\u001b[0m \u001b[32m━━━━━━━━━━━━━━━━━━━━\u001b[0m\u001b[37m\u001b[0m \u001b[1m2s\u001b[0m 2ms/step - accuracy: 0.8565 - loss: 0.0227\n",
            "Epoch 8/10\n",
            "\u001b[1m600/600\u001b[0m \u001b[32m━━━━━━━━━━━━━━━━━━━━\u001b[0m\u001b[37m\u001b[0m \u001b[1m1s\u001b[0m 2ms/step - accuracy: 0.8689 - loss: 0.0203\n",
            "Epoch 9/10\n",
            "\u001b[1m600/600\u001b[0m \u001b[32m━━━━━━━━━━━━━━━━━━━━\u001b[0m\u001b[37m\u001b[0m \u001b[1m1s\u001b[0m 2ms/step - accuracy: 0.8776 - loss: 0.0191\n",
            "Epoch 10/10\n",
            "\u001b[1m600/600\u001b[0m \u001b[32m━━━━━━━━━━━━━━━━━━━━\u001b[0m\u001b[37m\u001b[0m \u001b[1m3s\u001b[0m 2ms/step - accuracy: 0.8837 - loss: 0.0180\n"
          ]
        },
        {
          "output_type": "execute_result",
          "data": {
            "text/plain": [
              "<keras.src.callbacks.history.History at 0x7b16ea7da790>"
            ]
          },
          "metadata": {},
          "execution_count": 11
        }
      ]
    },
    {
      "cell_type": "code",
      "source": [
        "# 測試增加模型層數和 epochs 嘗試提高準確率\n",
        "\n",
        "model_2 = create_model(dim=[20, 20, 20, 20, 20])\n",
        "model_2.fit(x_train, y_train, batch_size=100, epochs=30)"
      ],
      "metadata": {
        "colab": {
          "base_uri": "https://localhost:8080/"
        },
        "collapsed": true,
        "id": "6EjjuSzceae0",
        "outputId": "fe1190a8-4e1b-4e59-b143-8bad03aa1802"
      },
      "execution_count": 12,
      "outputs": [
        {
          "output_type": "stream",
          "name": "stdout",
          "text": [
            "Epoch 1/30\n",
            "\u001b[1m600/600\u001b[0m \u001b[32m━━━━━━━━━━━━━━━━━━━━\u001b[0m\u001b[37m\u001b[0m \u001b[1m3s\u001b[0m 3ms/step - accuracy: 0.1190 - loss: 0.0900\n",
            "Epoch 2/30\n",
            "\u001b[1m600/600\u001b[0m \u001b[32m━━━━━━━━━━━━━━━━━━━━\u001b[0m\u001b[37m\u001b[0m \u001b[1m2s\u001b[0m 3ms/step - accuracy: 0.1738 - loss: 0.0892\n",
            "Epoch 3/30\n",
            "\u001b[1m600/600\u001b[0m \u001b[32m━━━━━━━━━━━━━━━━━━━━\u001b[0m\u001b[37m\u001b[0m \u001b[1m1s\u001b[0m 2ms/step - accuracy: 0.2017 - loss: 0.0866\n",
            "Epoch 4/30\n",
            "\u001b[1m600/600\u001b[0m \u001b[32m━━━━━━━━━━━━━━━━━━━━\u001b[0m\u001b[37m\u001b[0m \u001b[1m3s\u001b[0m 2ms/step - accuracy: 0.3692 - loss: 0.0790\n",
            "Epoch 5/30\n",
            "\u001b[1m600/600\u001b[0m \u001b[32m━━━━━━━━━━━━━━━━━━━━\u001b[0m\u001b[37m\u001b[0m \u001b[1m1s\u001b[0m 2ms/step - accuracy: 0.4616 - loss: 0.0691\n",
            "Epoch 6/30\n",
            "\u001b[1m600/600\u001b[0m \u001b[32m━━━━━━━━━━━━━━━━━━━━\u001b[0m\u001b[37m\u001b[0m \u001b[1m3s\u001b[0m 2ms/step - accuracy: 0.5729 - loss: 0.0560\n",
            "Epoch 7/30\n",
            "\u001b[1m600/600\u001b[0m \u001b[32m━━━━━━━━━━━━━━━━━━━━\u001b[0m\u001b[37m\u001b[0m \u001b[1m3s\u001b[0m 3ms/step - accuracy: 0.6650 - loss: 0.0431\n",
            "Epoch 8/30\n",
            "\u001b[1m600/600\u001b[0m \u001b[32m━━━━━━━━━━━━━━━━━━━━\u001b[0m\u001b[37m\u001b[0m \u001b[1m2s\u001b[0m 3ms/step - accuracy: 0.7605 - loss: 0.0338\n",
            "Epoch 9/30\n",
            "\u001b[1m600/600\u001b[0m \u001b[32m━━━━━━━━━━━━━━━━━━━━\u001b[0m\u001b[37m\u001b[0m \u001b[1m1s\u001b[0m 2ms/step - accuracy: 0.8155 - loss: 0.0278\n",
            "Epoch 10/30\n",
            "\u001b[1m600/600\u001b[0m \u001b[32m━━━━━━━━━━━━━━━━━━━━\u001b[0m\u001b[37m\u001b[0m \u001b[1m1s\u001b[0m 2ms/step - accuracy: 0.8479 - loss: 0.0228\n",
            "Epoch 11/30\n",
            "\u001b[1m600/600\u001b[0m \u001b[32m━━━━━━━━━━━━━━━━━━━━\u001b[0m\u001b[37m\u001b[0m \u001b[1m1s\u001b[0m 2ms/step - accuracy: 0.8725 - loss: 0.0194\n",
            "Epoch 12/30\n",
            "\u001b[1m600/600\u001b[0m \u001b[32m━━━━━━━━━━━━━━━━━━━━\u001b[0m\u001b[37m\u001b[0m \u001b[1m1s\u001b[0m 2ms/step - accuracy: 0.8835 - loss: 0.0177\n",
            "Epoch 13/30\n",
            "\u001b[1m600/600\u001b[0m \u001b[32m━━━━━━━━━━━━━━━━━━━━\u001b[0m\u001b[37m\u001b[0m \u001b[1m3s\u001b[0m 2ms/step - accuracy: 0.8930 - loss: 0.0163\n",
            "Epoch 14/30\n",
            "\u001b[1m600/600\u001b[0m \u001b[32m━━━━━━━━━━━━━━━━━━━━\u001b[0m\u001b[37m\u001b[0m \u001b[1m3s\u001b[0m 3ms/step - accuracy: 0.8980 - loss: 0.0155\n",
            "Epoch 15/30\n",
            "\u001b[1m600/600\u001b[0m \u001b[32m━━━━━━━━━━━━━━━━━━━━\u001b[0m\u001b[37m\u001b[0m \u001b[1m2s\u001b[0m 2ms/step - accuracy: 0.9059 - loss: 0.0144\n",
            "Epoch 16/30\n",
            "\u001b[1m600/600\u001b[0m \u001b[32m━━━━━━━━━━━━━━━━━━━━\u001b[0m\u001b[37m\u001b[0m \u001b[1m3s\u001b[0m 2ms/step - accuracy: 0.9052 - loss: 0.0144\n",
            "Epoch 17/30\n",
            "\u001b[1m600/600\u001b[0m \u001b[32m━━━━━━━━━━━━━━━━━━━━\u001b[0m\u001b[37m\u001b[0m \u001b[1m1s\u001b[0m 2ms/step - accuracy: 0.9109 - loss: 0.0138\n",
            "Epoch 18/30\n",
            "\u001b[1m600/600\u001b[0m \u001b[32m━━━━━━━━━━━━━━━━━━━━\u001b[0m\u001b[37m\u001b[0m \u001b[1m3s\u001b[0m 2ms/step - accuracy: 0.9137 - loss: 0.0133\n",
            "Epoch 19/30\n",
            "\u001b[1m600/600\u001b[0m \u001b[32m━━━━━━━━━━━━━━━━━━━━\u001b[0m\u001b[37m\u001b[0m \u001b[1m2s\u001b[0m 3ms/step - accuracy: 0.9156 - loss: 0.0129\n",
            "Epoch 20/30\n",
            "\u001b[1m600/600\u001b[0m \u001b[32m━━━━━━━━━━━━━━━━━━━━\u001b[0m\u001b[37m\u001b[0m \u001b[1m2s\u001b[0m 2ms/step - accuracy: 0.9167 - loss: 0.0128\n",
            "Epoch 21/30\n",
            "\u001b[1m600/600\u001b[0m \u001b[32m━━━━━━━━━━━━━━━━━━━━\u001b[0m\u001b[37m\u001b[0m \u001b[1m3s\u001b[0m 3ms/step - accuracy: 0.9206 - loss: 0.0123\n",
            "Epoch 22/30\n",
            "\u001b[1m600/600\u001b[0m \u001b[32m━━━━━━━━━━━━━━━━━━━━\u001b[0m\u001b[37m\u001b[0m \u001b[1m2s\u001b[0m 3ms/step - accuracy: 0.9213 - loss: 0.0122\n",
            "Epoch 23/30\n",
            "\u001b[1m600/600\u001b[0m \u001b[32m━━━━━━━━━━━━━━━━━━━━\u001b[0m\u001b[37m\u001b[0m \u001b[1m2s\u001b[0m 2ms/step - accuracy: 0.9231 - loss: 0.0117\n",
            "Epoch 24/30\n",
            "\u001b[1m600/600\u001b[0m \u001b[32m━━━━━━━━━━━━━━━━━━━━\u001b[0m\u001b[37m\u001b[0m \u001b[1m3s\u001b[0m 3ms/step - accuracy: 0.9268 - loss: 0.0114\n",
            "Epoch 25/30\n",
            "\u001b[1m600/600\u001b[0m \u001b[32m━━━━━━━━━━━━━━━━━━━━\u001b[0m\u001b[37m\u001b[0m \u001b[1m2s\u001b[0m 2ms/step - accuracy: 0.9283 - loss: 0.0110\n",
            "Epoch 26/30\n",
            "\u001b[1m600/600\u001b[0m \u001b[32m━━━━━━━━━━━━━━━━━━━━\u001b[0m\u001b[37m\u001b[0m \u001b[1m3s\u001b[0m 2ms/step - accuracy: 0.9303 - loss: 0.0109\n",
            "Epoch 27/30\n",
            "\u001b[1m600/600\u001b[0m \u001b[32m━━━━━━━━━━━━━━━━━━━━\u001b[0m\u001b[37m\u001b[0m \u001b[1m3s\u001b[0m 2ms/step - accuracy: 0.9306 - loss: 0.0108\n",
            "Epoch 28/30\n",
            "\u001b[1m600/600\u001b[0m \u001b[32m━━━━━━━━━━━━━━━━━━━━\u001b[0m\u001b[37m\u001b[0m \u001b[1m3s\u001b[0m 2ms/step - accuracy: 0.9304 - loss: 0.0107\n",
            "Epoch 29/30\n",
            "\u001b[1m600/600\u001b[0m \u001b[32m━━━━━━━━━━━━━━━━━━━━\u001b[0m\u001b[37m\u001b[0m \u001b[1m2s\u001b[0m 3ms/step - accuracy: 0.9330 - loss: 0.0104\n",
            "Epoch 30/30\n",
            "\u001b[1m600/600\u001b[0m \u001b[32m━━━━━━━━━━━━━━━━━━━━\u001b[0m\u001b[37m\u001b[0m \u001b[1m2s\u001b[0m 3ms/step - accuracy: 0.9333 - loss: 0.0104\n"
          ]
        },
        {
          "output_type": "execute_result",
          "data": {
            "text/plain": [
              "<keras.src.callbacks.history.History at 0x7b16c577bc10>"
            ]
          },
          "metadata": {},
          "execution_count": 12
        }
      ]
    },
    {
      "cell_type": "code",
      "source": [
        "# 測試調整 batch size 的影響\n",
        "\n",
        "model_3 = create_model(dim=[20, 20, 20, 20, 20])\n",
        "model_3.fit(x_train, y_train, batch_size=200, epochs=30)"
      ],
      "metadata": {
        "colab": {
          "base_uri": "https://localhost:8080/"
        },
        "id": "M4NOTcIFg2ce",
        "outputId": "152dc47c-16e5-4c55-82de-2a3369e7e093"
      },
      "execution_count": 13,
      "outputs": [
        {
          "output_type": "stream",
          "name": "stdout",
          "text": [
            "Epoch 1/30\n",
            "\u001b[1m300/300\u001b[0m \u001b[32m━━━━━━━━━━━━━━━━━━━━\u001b[0m\u001b[37m\u001b[0m \u001b[1m2s\u001b[0m 2ms/step - accuracy: 0.1010 - loss: 0.0900\n",
            "Epoch 2/30\n",
            "\u001b[1m300/300\u001b[0m \u001b[32m━━━━━━━━━━━━━━━━━━━━\u001b[0m\u001b[37m\u001b[0m \u001b[1m2s\u001b[0m 2ms/step - accuracy: 0.1077 - loss: 0.0899\n",
            "Epoch 3/30\n",
            "\u001b[1m300/300\u001b[0m \u001b[32m━━━━━━━━━━━━━━━━━━━━\u001b[0m\u001b[37m\u001b[0m \u001b[1m1s\u001b[0m 2ms/step - accuracy: 0.1217 - loss: 0.0897\n",
            "Epoch 4/30\n",
            "\u001b[1m300/300\u001b[0m \u001b[32m━━━━━━━━━━━━━━━━━━━━\u001b[0m\u001b[37m\u001b[0m \u001b[1m1s\u001b[0m 2ms/step - accuracy: 0.1397 - loss: 0.0894\n",
            "Epoch 5/30\n",
            "\u001b[1m300/300\u001b[0m \u001b[32m━━━━━━━━━━━━━━━━━━━━\u001b[0m\u001b[37m\u001b[0m \u001b[1m1s\u001b[0m 2ms/step - accuracy: 0.1461 - loss: 0.0890\n",
            "Epoch 6/30\n",
            "\u001b[1m300/300\u001b[0m \u001b[32m━━━━━━━━━━━━━━━━━━━━\u001b[0m\u001b[37m\u001b[0m \u001b[1m1s\u001b[0m 2ms/step - accuracy: 0.1485 - loss: 0.0876\n",
            "Epoch 7/30\n",
            "\u001b[1m300/300\u001b[0m \u001b[32m━━━━━━━━━━━━━━━━━━━━\u001b[0m\u001b[37m\u001b[0m \u001b[1m1s\u001b[0m 2ms/step - accuracy: 0.2171 - loss: 0.0854\n",
            "Epoch 8/30\n",
            "\u001b[1m300/300\u001b[0m \u001b[32m━━━━━━━━━━━━━━━━━━━━\u001b[0m\u001b[37m\u001b[0m \u001b[1m1s\u001b[0m 2ms/step - accuracy: 0.2499 - loss: 0.0837\n",
            "Epoch 9/30\n",
            "\u001b[1m300/300\u001b[0m \u001b[32m━━━━━━━━━━━━━━━━━━━━\u001b[0m\u001b[37m\u001b[0m \u001b[1m2s\u001b[0m 3ms/step - accuracy: 0.2567 - loss: 0.0832\n",
            "Epoch 10/30\n",
            "\u001b[1m300/300\u001b[0m \u001b[32m━━━━━━━━━━━━━━━━━━━━\u001b[0m\u001b[37m\u001b[0m \u001b[1m1s\u001b[0m 3ms/step - accuracy: 0.2608 - loss: 0.0826\n",
            "Epoch 11/30\n",
            "\u001b[1m300/300\u001b[0m \u001b[32m━━━━━━━━━━━━━━━━━━━━\u001b[0m\u001b[37m\u001b[0m \u001b[1m1s\u001b[0m 2ms/step - accuracy: 0.2712 - loss: 0.0821\n",
            "Epoch 12/30\n",
            "\u001b[1m300/300\u001b[0m \u001b[32m━━━━━━━━━━━━━━━━━━━━\u001b[0m\u001b[37m\u001b[0m \u001b[1m1s\u001b[0m 2ms/step - accuracy: 0.2779 - loss: 0.0817\n",
            "Epoch 13/30\n",
            "\u001b[1m300/300\u001b[0m \u001b[32m━━━━━━━━━━━━━━━━━━━━\u001b[0m\u001b[37m\u001b[0m \u001b[1m1s\u001b[0m 2ms/step - accuracy: 0.2888 - loss: 0.0813\n",
            "Epoch 14/30\n",
            "\u001b[1m300/300\u001b[0m \u001b[32m━━━━━━━━━━━━━━━━━━━━\u001b[0m\u001b[37m\u001b[0m \u001b[1m1s\u001b[0m 2ms/step - accuracy: 0.3063 - loss: 0.0810\n",
            "Epoch 15/30\n",
            "\u001b[1m300/300\u001b[0m \u001b[32m━━━━━━━━━━━━━━━━━━━━\u001b[0m\u001b[37m\u001b[0m \u001b[1m1s\u001b[0m 2ms/step - accuracy: 0.3335 - loss: 0.0805\n",
            "Epoch 16/30\n",
            "\u001b[1m300/300\u001b[0m \u001b[32m━━━━━━━━━━━━━━━━━━━━\u001b[0m\u001b[37m\u001b[0m \u001b[1m1s\u001b[0m 2ms/step - accuracy: 0.3607 - loss: 0.0801\n",
            "Epoch 17/30\n",
            "\u001b[1m300/300\u001b[0m \u001b[32m━━━━━━━━━━━━━━━━━━━━\u001b[0m\u001b[37m\u001b[0m \u001b[1m1s\u001b[0m 2ms/step - accuracy: 0.3832 - loss: 0.0793\n",
            "Epoch 18/30\n",
            "\u001b[1m300/300\u001b[0m \u001b[32m━━━━━━━━━━━━━━━━━━━━\u001b[0m\u001b[37m\u001b[0m \u001b[1m1s\u001b[0m 2ms/step - accuracy: 0.4025 - loss: 0.0781\n",
            "Epoch 19/30\n",
            "\u001b[1m300/300\u001b[0m \u001b[32m━━━━━━━━━━━━━━━━━━━━\u001b[0m\u001b[37m\u001b[0m \u001b[1m1s\u001b[0m 2ms/step - accuracy: 0.4155 - loss: 0.0760\n",
            "Epoch 20/30\n",
            "\u001b[1m300/300\u001b[0m \u001b[32m━━━━━━━━━━━━━━━━━━━━\u001b[0m\u001b[37m\u001b[0m \u001b[1m1s\u001b[0m 2ms/step - accuracy: 0.4244 - loss: 0.0718\n",
            "Epoch 21/30\n",
            "\u001b[1m300/300\u001b[0m \u001b[32m━━━━━━━━━━━━━━━━━━━━\u001b[0m\u001b[37m\u001b[0m \u001b[1m2s\u001b[0m 3ms/step - accuracy: 0.4408 - loss: 0.0672\n",
            "Epoch 22/30\n",
            "\u001b[1m300/300\u001b[0m \u001b[32m━━━━━━━━━━━━━━━━━━━━\u001b[0m\u001b[37m\u001b[0m \u001b[1m1s\u001b[0m 3ms/step - accuracy: 0.4739 - loss: 0.0623\n",
            "Epoch 23/30\n",
            "\u001b[1m300/300\u001b[0m \u001b[32m━━━━━━━━━━━━━━━━━━━━\u001b[0m\u001b[37m\u001b[0m \u001b[1m1s\u001b[0m 2ms/step - accuracy: 0.5163 - loss: 0.0582\n",
            "Epoch 24/30\n",
            "\u001b[1m300/300\u001b[0m \u001b[32m━━━━━━━━━━━━━━━━━━━━\u001b[0m\u001b[37m\u001b[0m \u001b[1m1s\u001b[0m 2ms/step - accuracy: 0.5627 - loss: 0.0538\n",
            "Epoch 25/30\n",
            "\u001b[1m300/300\u001b[0m \u001b[32m━━━━━━━━━━━━━━━━━━━━\u001b[0m\u001b[37m\u001b[0m \u001b[1m1s\u001b[0m 2ms/step - accuracy: 0.6244 - loss: 0.0493\n",
            "Epoch 26/30\n",
            "\u001b[1m300/300\u001b[0m \u001b[32m━━━━━━━━━━━━━━━━━━━━\u001b[0m\u001b[37m\u001b[0m \u001b[1m1s\u001b[0m 2ms/step - accuracy: 0.6838 - loss: 0.0450\n",
            "Epoch 27/30\n",
            "\u001b[1m300/300\u001b[0m \u001b[32m━━━━━━━━━━━━━━━━━━━━\u001b[0m\u001b[37m\u001b[0m \u001b[1m1s\u001b[0m 2ms/step - accuracy: 0.7173 - loss: 0.0410\n",
            "Epoch 28/30\n",
            "\u001b[1m300/300\u001b[0m \u001b[32m━━━━━━━━━━━━━━━━━━━━\u001b[0m\u001b[37m\u001b[0m \u001b[1m1s\u001b[0m 2ms/step - accuracy: 0.7413 - loss: 0.0366\n",
            "Epoch 29/30\n",
            "\u001b[1m300/300\u001b[0m \u001b[32m━━━━━━━━━━━━━━━━━━━━\u001b[0m\u001b[37m\u001b[0m \u001b[1m2s\u001b[0m 3ms/step - accuracy: 0.7714 - loss: 0.0323\n",
            "Epoch 30/30\n",
            "\u001b[1m300/300\u001b[0m \u001b[32m━━━━━━━━━━━━━━━━━━━━\u001b[0m\u001b[37m\u001b[0m \u001b[1m1s\u001b[0m 3ms/step - accuracy: 0.8117 - loss: 0.0286\n"
          ]
        },
        {
          "output_type": "execute_result",
          "data": {
            "text/plain": [
              "<keras.src.callbacks.history.History at 0x7b16c5771950>"
            ]
          },
          "metadata": {},
          "execution_count": 13
        }
      ]
    },
    {
      "cell_type": "markdown",
      "metadata": {
        "id": "-6ykAvga0Avq"
      },
      "source": [
        "## 5. 模型評估"
      ]
    },
    {
      "cell_type": "markdown",
      "source": [
        "在 testset 的 accuracy 高低與 training 時的結果相似，還沒有出現 overfitting 的狀況\n",
        "\n",
        " - batch size 較高的 NN 表現較差，可能需要再調整其他參數 (例如降低 learning rate)"
      ],
      "metadata": {
        "id": "kQMyMVcaib9A"
      }
    },
    {
      "cell_type": "code",
      "metadata": {
        "colab": {
          "base_uri": "https://localhost:8080/"
        },
        "id": "I9c1E_Cj0Avq",
        "outputId": "0b17882a-9e20-461b-ebf8-b55679ba9e46"
      },
      "source": [
        "# 測試三個 model 在 testset 的表現\n",
        "\n",
        "loss, acc = model_1.evaluate(x_test, y_test)\n",
        "print(f\"第一個 model 在 testset 的準確率 {acc*100:.2f}%\")\n",
        "\n",
        "loss, acc = model_2.evaluate(x_test, y_test)\n",
        "print(f\"第二個 model 在 testset 的準確率 {acc*100:.2f}%\")\n",
        "\n",
        "loss, acc = model_3.evaluate(x_test, y_test)\n",
        "print(f\"第三個 model 在 testset 的準確率 {acc*100:.2f}%\")"
      ],
      "execution_count": 14,
      "outputs": [
        {
          "output_type": "stream",
          "name": "stdout",
          "text": [
            "\u001b[1m313/313\u001b[0m \u001b[32m━━━━━━━━━━━━━━━━━━━━\u001b[0m\u001b[37m\u001b[0m \u001b[1m2s\u001b[0m 4ms/step - accuracy: 0.8762 - loss: 0.0189\n",
            "第一個 model 在 testset 的準確率 88.65%\n",
            "\u001b[1m313/313\u001b[0m \u001b[32m━━━━━━━━━━━━━━━━━━━━\u001b[0m\u001b[37m\u001b[0m \u001b[1m1s\u001b[0m 3ms/step - accuracy: 0.9211 - loss: 0.0119\n",
            "第二個 model 在 testset 的準確率 93.02%\n",
            "\u001b[1m313/313\u001b[0m \u001b[32m━━━━━━━━━━━━━━━━━━━━\u001b[0m\u001b[37m\u001b[0m \u001b[1m1s\u001b[0m 3ms/step - accuracy: 0.8083 - loss: 0.0289\n",
            "第三個 model 在 testset 的準確率 83.31%\n"
          ]
        }
      ]
    },
    {
      "cell_type": "markdown",
      "metadata": {
        "id": "FWK0fgKgCHa7"
      },
      "source": [
        "### 6. 用 Gradio 來展示"
      ]
    },
    {
      "cell_type": "code",
      "source": [
        "def resize_image(inp):\n",
        "    # 圖在 inp[\"layers\"][0]\n",
        "    image = np.array(inp[\"layers\"][0], dtype=np.float32)\n",
        "    image = image.astype(np.uint8)\n",
        "\n",
        "    # 轉成 PIL 格式\n",
        "    image_pil = Image.fromarray(image)\n",
        "\n",
        "    # Alpha 通道設為白色, 再把圖從 RGBA 轉成 RGB\n",
        "    background = Image.new(\"RGB\", image_pil.size, (255, 255, 255))\n",
        "    background.paste(image_pil, mask=image_pil.split()[3]) # 把圖片粘貼到白色背景上，使用透明通道作為遮罩\n",
        "    image_pil = background\n",
        "\n",
        "    # 轉換為灰階圖像\n",
        "    image_gray = image_pil.convert(\"L\")\n",
        "\n",
        "    # 將灰階圖像縮放到 28x28, 轉回 numpy array\n",
        "    img_array = np.array(image_gray.resize((28, 28), resample=Image.LANCZOS))\n",
        "\n",
        "    # 配合 MNIST 數據集\n",
        "    img_array = 255 - img_array\n",
        "\n",
        "    # 拉平並縮放\n",
        "    img_array = img_array.reshape(1, 784) / 255.0\n",
        "\n",
        "    return img_array"
      ],
      "metadata": {
        "id": "YCDldfE4eVh6"
      },
      "execution_count": 15,
      "outputs": []
    },
    {
      "cell_type": "code",
      "source": [
        "def recognize_digit(inp):\n",
        "    img_array = resize_image(inp)\n",
        "    prediction = model_2.predict(img_array).flatten() # 要記得換上面測試最好的 model\n",
        "    labels = list('0123456789')\n",
        "    return {labels[i]: float(prediction[i]) for i in range(10)}"
      ],
      "metadata": {
        "id": "QUejwCO9S7R4"
      },
      "execution_count": 16,
      "outputs": []
    },
    {
      "cell_type": "code",
      "metadata": {
        "id": "ITOFueb5KSBD",
        "colab": {
          "base_uri": "https://localhost:8080/",
          "height": 704
        },
        "outputId": "3baa8625-03e8-4b0d-9bf6-1a948f6cc662"
      },
      "source": [
        "iface = gr.Interface(\n",
        "    fn=recognize_digit,\n",
        "    inputs=gr.Sketchpad(),\n",
        "    outputs=gr.Label(num_top_classes=3),\n",
        "    title=\"MNIST 手寫辨識\",\n",
        "    description=\"請在畫板上繪製數字\"\n",
        ")\n",
        "\n",
        "iface.launch(share=True, debug=True)"
      ],
      "execution_count": 17,
      "outputs": [
        {
          "output_type": "stream",
          "name": "stdout",
          "text": [
            "Colab notebook detected. This cell will run indefinitely so that you can see errors and logs. To turn off, set debug=False in launch().\n",
            "* Running on public URL: https://2bff5c1326010c3b77.gradio.live\n",
            "\n",
            "This share link expires in 72 hours. For free permanent hosting and GPU upgrades, run `gradio deploy` from the terminal in the working directory to deploy to Hugging Face Spaces (https://huggingface.co/spaces)\n"
          ]
        },
        {
          "output_type": "display_data",
          "data": {
            "text/plain": [
              "<IPython.core.display.HTML object>"
            ],
            "text/html": [
              "<div><iframe src=\"https://2bff5c1326010c3b77.gradio.live\" width=\"100%\" height=\"500\" allow=\"autoplay; camera; microphone; clipboard-read; clipboard-write;\" frameborder=\"0\" allowfullscreen></iframe></div>"
            ]
          },
          "metadata": {}
        },
        {
          "output_type": "stream",
          "name": "stdout",
          "text": [
            "\u001b[1m1/1\u001b[0m \u001b[32m━━━━━━━━━━━━━━━━━━━━\u001b[0m\u001b[37m\u001b[0m \u001b[1m1s\u001b[0m 505ms/step\n",
            "\u001b[1m1/1\u001b[0m \u001b[32m━━━━━━━━━━━━━━━━━━━━\u001b[0m\u001b[37m\u001b[0m \u001b[1m0s\u001b[0m 47ms/step\n",
            "\u001b[1m1/1\u001b[0m \u001b[32m━━━━━━━━━━━━━━━━━━━━\u001b[0m\u001b[37m\u001b[0m \u001b[1m0s\u001b[0m 29ms/step\n",
            "Keyboard interruption in main thread... closing server.\n",
            "Killing tunnel 127.0.0.1:7860 <> https://2bff5c1326010c3b77.gradio.live\n"
          ]
        },
        {
          "output_type": "execute_result",
          "data": {
            "text/plain": []
          },
          "metadata": {},
          "execution_count": 17
        }
      ]
    },
    {
      "cell_type": "markdown",
      "source": [
        "### Gradio 的截圖"
      ],
      "metadata": {
        "id": "nTQKrBE4kIv9"
      }
    },
    {
      "cell_type": "markdown",
      "source": [
        "![image.png](data:image/png;base64,iVBORw0KGgoAAAANSUhEUgAABU8AAAIvCAYAAABECCq3AAAAAXNSR0IArs4c6QAAAARnQU1BAACxjwv8YQUAAAAJcEhZcwAADsMAAA7DAcdvqGQAAFzgSURBVHhe7f1rcJ13fh94/g7u9ztAECQlki0JHaV7VhlKjh17ZmTPrj21a9WU3d1brY1rK5kXrU4lqcTbHc86m+0wnnFSOyPnUslULO9MsruVKTnb6s0LebbWTk1HO5U4TiTGnHSv0mypSYoXAAQBgiDuOMA5+wLAIc4fF94OgHMefD5Vp8Hz/T94zgUQ+5wvn/P8cqOjLxcDAAAeKRdDQ8MxOTmeLpQMD5+Oy5c/TOOn8sorr8XExK00BgCAA7X9NW1duggAALsrxuzs/Whv70wXAAAgk5SnAAA8tkJhLZqaWtIYAAAySXkKAMBjy+fzaVTGx+wBAMgS5SkAAE+kubk5jQAAIJOUpwAAVMzw8Ok0AgCAmqU8BQAAAADYhfIUAAAAAGAXudHRl4tpCAAAexkePr3vYKiJifE0eiqvvPLavrcDwKY/9V/Hez9/Nk13uv478eVv/t/TFIDE8PDpuHz5wwhHngIAAECNO3s2zp17jMvZ59PvBOARlKcAAFSMgVEAAGSJj+0DAPBE9vvY/vaPOD0rH9sHeDxfeue78Zdf7dy4MvZB/Orf/b10kw1zn8Xv/csfpikACR/bBwAAgIxo2vbnubFL8Xu/9093vyhOAZ6Y8hQAgIpxpCgAAFmiPAUAAIAaNtq/+ZH9iJib/v+WrQHwbJSnAABUjIFRAEer6exfjfc++Ofx+7+/cfng/X8U71z8xXgp3RCAx6I8BQAAgJr170dH88NrA6MX4lxnczQ3b1w6R0bj1Td+Nd793d+MN09u/z4AHofyFAAAAGpWf9m1lanrce3a9bh2bSzmti8MXIg//3e/FT+xPQPgkZSnAABUjIFRAIftn8Y33/iT8dd/9/fjd//6n4w/8XNfiS9/+Svx5S//p/H6z//l+N1rK6Utm8/9bLz1p8q+GYBHUJ4CAABATfthfOcv/4X4y9/5YXk8/k/jL/+NfxljpaA5zv7EL5ZtAsD+lKcAAFSMgVEAVebSpRjb9vn9zs6z21cBeATlKQAAABwTK6sPP8YPwKMpTwEAAKBm/UT87M+eTMOHLnwxRjofXp2bSz7aD8C+lKcAAFSMgVEAh+sn/vr/Mf7G3/jv472//ovxUrp48n8Vf/1X/6MYKQVT8cPf/adlmwCwv9zo6MvFNAQAgL0MD5/etySdmBhPo6fyyiuv7Xs7AMfez/+d+N2/9idiYOv6ylRc+97344fTq9HU/1J88YtnY6D54eYrV96NL/3v/mZU5m9pgOwaHj4dly9/GOHIUwAAKsnAKIBD9Dv/Tbz7+2NROotp80Cce/X1+Lmf+9n46VeT4nTq9+PvfkNxCvCklKcAAABQk34Y/7c//5/Gn/qr34mPxvYaBDUX137/3fjGz/2FeFdzCvDEfGwfAIAnst/H9rd/xOlZ+dg+wBN66SfiZ8++FBdefyk6V8fi0u//m/je7/3LMCIK4Mlsf02rPAUA4InsV56Gc54CAFDjnPMUAAAAAOARlKcAAFSMgVEAAGSJ8hQAAAAAYBfKUwAAAACAXShPAQCoGAOeAADIEuUpAAAAAMAulKcAAFRMX99AGgEAQM1SngIAUDFNTS1pBAAANUt5CgAAAACwC+UpAAAVMz19N40AAKBmKU8BAKiYfH4ljQAAoGYpTwEAqBgDowAAyBLlKQAAFWNgFAAAWaI8BQAAAADYhfIUAICKMTAKAIAsUZ4CAFAxBkYBAJAlylMAACrGwCgAALJEeQoAQMUYGAUAQJYoTwEAAAAAdqE8BQCgYgyMAgAgS5SnAABUjIFRAABkifIUAICKMTAKAIAsUZ4CAFAxBkYBAJAlylMAAAAAgF0oTwEAqBgDowAAyBLlKQAAFWNgFAAAWaI8BQCgYgyMAgAgS5SnAABUjIFRAABkifIUAAAAAGAXylMAACrGwCgAALJEeQoAQMUYGAUAQJYoTwEAqBgDowAAyBLlKQAAFWNgFAAAWaI8BQAAAADYhfIUAICKMTAKAIAsUZ4CAFAxBkYBAJAludHRl4tpCAAAexkePh0TE7fSOGJzYNTHH38vjZ/KK6+8tuftPMrPvdAUf/6Pt8bZnvqNoFiMyOU2vu5i+3IuIopRjFzkohib2xdja2HrO8qDHevbFUv7Tzff+nMUi5HL5aK47f7td3O7BA/jXda3X8tt3Fzy3cn+kt3uur7LzW8pbj6ered7x+a7PN4yO79h39vf+nltBbv9uNPb37HBbh6x3dbjLBaL5c9vaYNHBDvWtyvuWN+6Wtpil+dx95vb94Z2+4Yd17Z2U7661+3tEexYL1f7vzebN7DH+tbNb13Z8ffM9tsr/c9+T9huwc7Hkz7e7X+v7f9wHrHBI9a3L2/cjZ23v/fD2/n7n9rr92Xrz7H17cWHO9pnd5v72WWLJH7i35utHezxPJXdwF6bbEl+b7Zup3R7pf/Z5XFs2RGXb7/X783GnzbyfR/vtifkxkpj/Hdj3fHd+20PN4YaMTx8Oi5f/jAilKcAADyh/crT7S80n9WzlKf/85/pi/rcxhu4HQVX6X3d9nxru2S99Ea/rAHYvLr9+3Yp0LbnZbe/rQAqvQPdfvuPeb/K9r+RJ3fw4ePf9gb4ce5XevvJE5fc353P1477vcf+N2zfX3r7uzwfO/a/fX9ld+jh/d6x//3vV5onD3TjXj/B/dr5vG+s73Z/n+R+7bz9zf1u/zmV8if8vd+23eYv0OaPq/z5eHi/HrX/nfc3ecDb9pfcr9jr93ev+7vz57T3/ne7v+XrD5+Asju0+du71/c96udY+otij/+uHn2/duabj3/bf1flP6897lfy+7Nzfzt/Tjvv796/P3s9H1sLdQ31UdfWWv58J/d737930697/lx2f7zJAyj776bsdnfbz26Pc/v93PV+bHucu/6ctj+Onc/b7o9jj//+tt1+ssOy2995//b7eSbb7fF8b22wUqyL/+Xl05u/l1A7tr+m9bF9AAAypxhbb9wicptv4HKba7nNP6RvMGNj89L72K030KU3mFvvMzduIHKbwfb9l70d3XoDufnGd/PbNt8Yb96RzXxjP5v73brfpf1v7W/rjerW/d12v7fueGx9ffjG9WG68aey+7vtfm+9YS99LT2PpQ3K3nA/vL8Pn4/SG+it+7358Er737rfpce9ud+y+5X+vDaer7KiYPvj3no+S487Hn7dlpf2v22zjW/f/jxuPe6t+7vxtfS4t93vHT+nze8s+zlt3n7Z/st+Xg9/TmV3f2v/pf1t+/3adr/Kfk7b7nfZ4y7tb2v/D+/39p/Tw5/XLj+nhw972/3dfD6373/r/pXu7+bj3dygbP8R5T+Ibfdr63FvX964v8n+S/vb9nw8fCCl+7P5jdvu7/b/rsp/vzbuxi4/p62vpfu7uf/S/X24/20/ztL9Kvv7YPtuSzeUPO7NO1j2c0p/v7b2X7q/2+5Y6f5uez4279fGt5X/nMrv77bnc+c3lj2Ah/d3a7NtP6ey+7tt/8n9Kt297U/Mzl+A0v43drN1+1vP78YOHm5e/ntR/vxvfd32eEr3Z3O/G3ep9LjL/nvf/Htq95/Lw8excTs7fz4PH2fZDZTtIFnd9jh3/7k9vPtbj/Phf2dbt1/aYen2tz3e3MaWZU978nw/fJwPH0dpd+l/h1sbxMPtoZY58hQAgCey35GnjY3NcfPm9TR+Ks9y5Ol/8kJT/Nkfa41zvfWlN5wb7/S2v/HceoO4/Q341vrmG8V4+MZ889tLb0w33mBvvlHctsOt798Kdt//o26/fH3rDpQKgG1v9LfuX9ntb99fYfv1Xda3Hm/Z/jffQCePd/vjefh8FnZ5vtL97/94y5/PwrYi4eH9K7/98p/Hk97+judzm/TxHe/fm+R53nF75de37kD6ePe8vR3PV7r/p3u82x9nevtlj2fP23/UevJ4d7n9re0ePt+FHd//pM/35hO34/a3P59P93g3v+7xfD68/b3/O9l9/4+6/fL1rQf08L+PdP87b7/86+bme65v+1rY9vPbuv1tP68nex4ftV7+9dG/N9t+rmV/f+/y9bF+b/Z4nKXn9Ukf7/avO//+39pBLpeLz5bq47+b6InvzvjYPrXHx/YBAHhq+5WnERETE+Np9FSepTwFAICn5WP7AAAciL6+gTQCAICapTwFAKBimppa0ggAAGqW8hQAAAAAYBfKUwAAKmZ6+m4aAQBAzVKeAgBQMfn8ShoBAEDNUp4CAFAxBkYBAJAlylMAACrGwCgAALJEeQoAAAAAsAvlKQAAFWNgFAAAWZIbHX25mIYAALCX4eHTMTFxK41LJibG0+ipvPLKa/vezqO8+c5345uvdqZxzH30G/H6W7+dxgAAHIKL730Yb5xL001zl+Lt178e7z7Wa7mvxjsffCO2Nrn2/mvx5YtbW30r3rv0RkRZ9viGh0/H5csfRjjyFACASqqmgVGj/Z0x99FvxIULr5VdFKcAAEfs2vs7XqO9fy0ipsbi3c1NHvVa7s13vhavTm3u5+1LMfDGt2OrJ7343hsx8NFvPFVxmlKeAgBQMQZGAQDwxN78zXj9XMS17/9aurKn0f7OmJv+4caVd8diKvrj5Jtb+7oeH1ToH8yVpwAAZNBX4+RAxNR4ZV40AwBQGRe//Fpc+HJ5SXrxSxeic+5SfKd0pOijX8tdmZ6Lzv6XNq68ORIDMR3j727sKz76Tuko1GelPAUAoGKqb2DUt+K9Sx/Gpa3Le99KNwAA4Eh9K75wLuLaBxvnOk3X9not9+5bvxUfDbyxkX/zQky9/5W4WOGjTkN5CgBAJeXzK2l0RF6K/s6Ic298Mb6/dY6sty/F3Lk34oN3vppuDADAEXnzndfjXFyP75cdKvo4r+V+O956/eG5UDfOb/pBvHPhKxU76jQiIjc6+nIxDQEAYC/Dw6djYuJWGkdsDoz6+OPvpfFTeeWV1/a8nae1MbV1Ot6v8ItqAACexrfivUsbw50eZ6jnrq/lLn47Lr0R8f6Fr0S892G8cW4jnnvMfe5mePh0XL78YYQjTwEAqKRqHxj17vh0GgEAcFQufjHOxeN/zH7na7mvxjuvn41r738lLl78drwxcCnevvBaXLjwfky9+rV4581k86egPAUAIJPefHPnx/PfPNkfMTcdV9IFAAAO2UbxGde+t+sngh7rtdzFL8WrsTFo6s2T/RFTY5vnTf1hTM91Rv/o9u9+Oj62DwDAE9nvY/uNjc1x8+b1NH4qz/Sx/YvfjktvnI249v7Daa5v/mZ88M0LEU/wEa7h4dOlP2/dl92zUxGR28xuR0Rx1+zEiZHI5TaOX6hENjQ0EnV1G9mdO2NRLBb2yE5GXV19xbLBwZNRX7+RTU6OR6GwHoODw1Ff3/DIbGBgOBoaNrK7d8djff1xsolYX1/bIxuKhoamzexOrK/nd836+4eisXEjm5q6E2trj5NNxtra6h7ZYDQ2NkdExPT0ZOTzq9HXNxhNTU+a3Y18fmXXrLd3IJqbN47mvnfvbqyuPmvWH83NrRERMTMzFSsry7tmPT390dLydFl3d2+0trZHRMT9+/dieXmxYtns7L1YWto96+rqiba2js1sJpaWFp4p6+zsifb2jezBg5lYXNwr64729s7N7H4sLs4/dtbR0R0dHRvZ3Nz9WFjYK+uKjo6uzWw2FhbmHpnNzz+I+fkHu2bt7Z3R2dn9GFlHdHb2bGZzMT8/u2vW1tYRXV0b2cLCXMzNPUnWHl1dvZvZfMzN3d81a21tj+7ujWxxcT4ePHjWrC26u/siImJpaSFmZ2d2zVpa2qKn5+my5uaW6O0diIiI5eWluH9/umLZyspSzMzsnjU1NUdf3+BmthwzM1PPlDU2Nkd//0a2uroS9+7d3SNriv7+oT2zfH4lpqd3zxoammJgYCtbjenpyT2yxhgYOPHIrL6+MQYHN7K1tdWYmtora4jBweHNbC2mpib2yOpjcPDkI7O6uvoYGtrI1tfX4u7dNFuPu3fHd81yubo4cWIkIiIKhfWYnKxkVojJybFds4jc5uuViGKxEHfuVC6LKG6+Xtn9tVPE1muzl+LK2z8Tb6WToh7rtdxX450PvhH9H2ye7/Tit+PS69Px9utfj3fjW/Hepddjerd9PwYf2wcA4EBUzcCoi1+JCxfej2vnNiewlqawvvbYxSkAAAflq/HOWxeic+6H8cFu5eZjvJa7+N434tWp9zcHRW18z/tTF+Kblz6MS5feiIGPfuupitOUI08BAHgi+x15Wu0DowAA4FEceQoAwIGo9oFRAADwJJSnAAAAAAC7UJ4CAFAx09N30wgAAGqW8hQAgIqpmoFRAABQAcpTasr09FR88skPdlxWVpbTTQGAI9DXN5BGAABQs5SnVLW1tbXI51fjypWP48qVj2NqajIKhcKOy/XrV+PKlY/js8+uRT6/GoVCId0VAHAIDIwCACBLlKdUpbW1tZidvR+3bt2Iq1c/TZf3tLy8FFevfhp3707G7Oz9dBkAAAAAHpvylKp05854TEyMPfXH8e/fvxcTE2Nx9+5kugQAHCADowAAyBLlKVXnxo3rMT8/l8ZP5d69qZiaUqACwGExMAoAgCxRnlJ1lpYW0+iZrKx4EwcAh8XAKAAAskR5StVYW8vHtWuPf37TxzU/PxcTE+OxvLwcy8vLMT8/XxpAtf0yPn67tM1uFyUsADyagVEAAGRJbnT05WIawlGYnJyImZl7aVw16urqY2Bg/6Npcrlc9PT0pTEAZMrw8OmYmLiVxhGba5cvf5jGT+WVV17b83YAAOCgbH9NqzylalR7efo4crlcdHZ2pfEOJ0+eSiMAqBn7laeNjc1x8+b1NH4qylMAAI6C8pSqs/HR+rFYX19PlzKpuXn3jzT29PRGT09vGgNAVdmvPI2ImJgYT6OnojwFAOAobC9PnfOUqrC+vn5sitOIiJWV5V0vd+6M7zgX6/T0VOn52boUi/7NA4DqZGAUAABZ4shTqsLs7P2YmBhLY/bQ19cf7e0dZVlzc3PU1zeUZQBwEPY78rRaznl6tqc+fvU/aI2fPNMYxUIxcrmIYqEYsfk1FxHF4sOvsf16YfPlcZpvfi1s219pv3tsH5v72/f2tv5R9LG2z0WxUNi2fS6KxcK27XNRSK7vt31srj98PA+3L31/Mfn+QrL/YmHbfnPxbx40xds3e+PGcuPG9wEA1BhHnlJV1tbWYn5+Lo3Zx71703Hz5mdllzt3JmJq6u6OCwAcR//Fz7TFT55pjNjo+zZ7v1xEsfRloyjc+oZibBaBG9tHbG6/eXVju43tc5v7y+X22b64+ae9bi82bm/rTxsLW9tv3c7W9pt55DYKz83b2fi6WWBublfcur7P9htF59Z+NwvT0uN5+IA27t/m9XT70v3bWt+63WL8sc6V+D89N71xmwAANc6Rpxy55eXl+Oyzq2lMhXR0dKZRnDp1Jo0A4LHtd+RpNQyMqstF/Ns/0xuF1XwU1wtRyK9FrK9HIb8WxbX1KK5tfC3L1wtR19wY7S88t+OI0vQI0N2OEE23K8u3H6m63/a7HBlbdnvJdvE496/0OHYeobp1RGnpemHjyNH0SNLS10IhYvPI1O3bxS7bR+TiP/rDM1t3EQCgpjjyFI6R+fm5HZerVz/ZcQGASsjnV9Lo0BWKEfn1zSMti5sF4laxuM3DI0c3tisdkfnw6sPttr6pGJsbPDyi9OERpw+/btzc1nYPv6bbF8uOeE2227oD6X4fHsq6kSdHqG6/3dL2se2I0dh+xOjm/S4dUbp1pOrWEa0Pjyh9+HyWb7dx/7ZtF7lYXi91uwAANc2Rpxw5R55Wr/PnX0iSXDQ2On8ZwHG335GnfX0D8fHH30vjp/K0R55GRPzEmcZ460JLvDrSUH6kZm7nOUULux0BGtuO4EzWS9tX6pyn+96/9Bym6fbl5yCN0hGgD7//YM55+vBI0/Qcq9+ba4x/MN4dH861bHwfAECN2X7kqfKUI6c8rR25XC5OnjxdltXV5XYMrwIg2/YrT6tlYBQAADwtH9sHnkqxWIyxsZvJ5daOIVX378+k3wpHIv3dnJq6GzMzhpgAAADweBx5ypFz5Gn25HJ10dJS/lG9lpaWGBoaLsvgIMzNPYiZmXsREbG0tJguRy6Xi5aW1oiIGB4eiaampnQT4BH2O/K0GgZGAQDAs/CxfarKJ5/8IApb5+Ii0+rqdh7sPjg4FD09fWkMj5TP5+P69R+lcRSLxdL5BB9l63fyxRc/ny4B+9ivPI2ImJgYT6OnojwFAOAoKE+pKleufJxGHHP9/YPR0dFZljU2NkZ9fX1ZRvasrq5EIRnPfPv2jVhbWyvLDkJXV3cMDQ37PYPHsF95Wi0DowAA4GkpT6kqylMeR09P345TAbS3d0RDQ0NZRu1YWJjfUYpOTd2NtbV8WXaYurt7YmhoeNejpIGH9itPDYwCAKDWKU+pKspTnlZHR2c0NjaWZX19/dHQUJ5x9B48mI3l5aWybG7uwY7ytBqcP/9CNDY6DyrsR3kKAECWKU+pKspTKqmpqSlyufKjBk+fPqNQfQbXrz/7QLd8Ph+FwnoaV6WmpuY4d+5zaQxss195amAUAAC1TnlKVVGeAtWmrq7OECnYx37laRgYBQBAjdtenjqpG0fqk09+kEYAR65YjFhZWU5j4DH09Q2k0RH6Vrx36cO4tP3y3rfSjQAAOAoXv116jfbexXQx4s13vlv+Om7z8sE7X93c4qvxzgcP8/J9bLwO3G2/T0p5CgCJYrEQU1N30xh4DE1N5cP9js634r1Lb8S5a+/HhQuvbV7ej2vn3lCgAgAcsTff+W5ceuNsXPvoUsyli5tG+ztj7qPf2PZabuPy+lu/HRERb77ztXh1avO13tuXYuCNb8dWV3rxvTdi4KPfiC8rTwEAYBcXvxjnYi4++s6vbQt/Lb7z0VzEwEi8uS0FAODwvPnOd+Obr3bGtfdfiy9/kK4+vtH+zpib/uHGlXfHYir64+SbEfHmb8br567HB5sl67NSngIAUDHT01Vy1PaV6T2PYgAA4Kh8NUZjOj56/7VHHBX61Tg5EDE1vncBemV6Ljr7X9q48uZIDMR0jL8bcfFLFyI++k7pKNRnpTwFgF3Mz8/56D48hXx+JY2Oxrtfjw+udcarX9r+Ef1vxZde7YxrH3w93t2WAgBwWH47Lr71lXjrsZvN5Bz2206/9O5bvxUfDbyxkX/zQky9/5W4WOGjTkN5CgBAJVXTwKiLX34tLnz/i9sGDHwxvn/hUUc5AABw9F6K/s6Ic29svH7bOq/p3Lk3tg2M+u146/WH50LdeI33Qbxz4SsVO+o0lKccpdnZ+1EsFtP4QLS2tkV//2D09w+mSwBABVXXwKgP49IXvrdtwMD34gvJEQsAAFSjX4svX3gtLmwvQt/9erzz0Vx0vvql8nL04rfj0qWNYVEXv/SN+ObmP5w/LFmfjfKUI3OY5WlbW3sMDAzGwMBgjIyc2XEBSLW0tEZXV1caAzXizXdej3Nzl+LtL5cPjPry25di7tzr8Y6JUQAANefd8ekk+Wq88/rZuPb+V+LixW/HGwOX4u0Lr8WFC+/H1Ktfq8hrPuUpmdfe3hF9ff2l652dnTsuL7ww+sjL2bPny/YLZFtDQ0M0NTWnMfAI1TIwarS/M40AAKghb76588jRN0/2R8xNx5Wt4OKX4tW4FN+5uLk2NbZ5bvsfxvRcZ/SPbv/up5MbHX35cA79g8SNG9djaWkxjSuuo6MzTp06nKNLC4X1uH79ahqXyefzaQRUocP8uwNqzfDw6ZiYuJXGJRMT42n0VF555bV9b2dfb/5mfPDNCxEf/Ua8XhoY8NV454NvxKtxKd5+/fGGRg0Pny79eeu+7J6diojcZnY7Ioq7ZidOjEQut3H8QiWyoaGRqKvbyO7cGYtisbBHdjLq6uorlg0Onoz6+o1scnI8CoX1GBwcjvr6hkdmAwPD0dCwkd29Ox7r64+TTcT6+toe2VA0NDRtZndifT2/a9bfPxSNjRvZ1NSdWFt7nGwy1tZW98gGo7Fx4x/ZpqcnI59fjb6+wdI/vD1+djfy+ZVds97egWhu3jgVxr17d2N19Vmz/mhubo2IiJmZqVhZWd416+npj5aWp8u6u3ujtbU9IiLu378Xy8uLFctmZ+/F0tLuWVdXT7S1dWxmM7G0tPBMWWdnT7S3b2QPHszE4uJeWXe0t2/8Y82DB/djcXH+sbOOju7o6NjI5ubux8LCXllXdHRsfBpmbm42FhbmHpnNzz+I+fkHu2bt7Z3R2dn9GFlHdHb2bGZzMT8/u2vW1tYRXV0b2cLCXMzNPUnWHl1dvZvZfMzN3d81a21tj+7ujWxxcT4ePHjWrC26u/siImJpaSFmZ2d2zVpa2qKn5+my5uaW6O3dOA/48vJS3L8/XbFsZWUpZmZ2z5qamqOvb+N0dSsryzEzM/VMWWNjc+n0d6urK3Hv3t09sqbo7x/aM8vnV2J6evesoaEpBga2stWYnp7cI2uMgYETj8zq6xtjcHAjW1tbjampvbKGGBwc3szWYmpqYo+sPgYHTz4yq6urj6GhjWx9fS3u3k2z9bh7d3zXLJerixMnRiI2e4XJyUpmhZicHNs1i8htvl6JKBYLcedO5bKI4ubrld1fO5Vsvmabej85L/3Fb8elN85GXHs/Lmx9kmjH67uN13b9H2x+78Vvx6XXpzdf530r3rv0eky//TPx1uO86EsMD5+Oy5c/jHDkKVRWXV19nD//4r6Xrq7uHZfOTh8NhmqSy+WirW3jTRnwZKpmYNS7X4/XL7wfU69+Y9vAqG/Eq1Pvx4XHLE4BADgAF7/98PXZNy9EZ0Sce2Pr9dp3Nz5qf/ErceHC+3Ht3Btl2069/1rpH8Yvvrfx2q5Uul78Srw/dWHznKdvxMBHv/VUxWnKkaccmSweefq0isVi3L9/ryxbX1+P6empsgw4HHV1dfHii59PY2DTfkeebv9X+mf1TEeeAgDAU3LkKUdudvZ+rKwsp/Gxlcvlore3v+zS1zcQZ848X3Y5cWLj0H7gYJ0+/VwaAQAAcAwpTzkS+Xw+CoVCGrNNXV1dtLW1l116enpjdPTlssvISHUfVQu1qLW1LY2Ax1QtA6MAAKASlKdkWl1dXdV/ZP9ZdXZ27ihUT506E83NLWWXreEKwN4aGhrjc597MY2BJ5DPr6QRAADULOUpZFBHR2ecPXu+7HLy5Kno7e0ru2xNRwUimptbYmTkdDQ0NKZLwBOomoFRAABQAcpTOCba2tpjaGi47HLixMkYHh7ZcWlqakq/HTJteHgkTpw4Ga2t/kEBnlVTU0saAQBAzVKecugWFxfi/v2ZNOYItLS0RHd3z47LqVPPxfPPny+7+Ng/WfX88+eju7tHcQoAAMAOylMO3fp6IdbX19KYKtLU1BQtLS1ll8997qUd51ZtaGiMurq6sgtUs63f0+3D11paHCUHlWRgFAAAWaLpINNMzD5Yn/vci/Hii58vu7S2tu24wFFoaWnd8bv4uc+9FC+++Pk4ceJkujlQIQZGAQCQJbnR0ZeLaQgHZX19Pe7cGY+5uQfp0oEYHX05jTgCU1M7j0JyZBKV0t7eHi0tO0v63t6+qK+vT2OgAoaHT8fExK00jtgcGPXxx99L46fyyiuv7Xk7AABwUIaHT8flyx9GKE85bPn8aly9+mkaHxjlafWam5tLoxgbu5lGEBERuVwuTp48ncYREdHc3GzIGRyy/crT7S80n5XyFACAo6A85cgoT9lPPr9adr1QKMT161fLMo6H8+dfSJJcNDY2JhlwVJSnAABkmfKUI3OY5WlDQ0N87nMvpTEZsLAwH3fujJdlhUIh1tfXyzKqU1qCNjQ0xnPPnS3LgOq2X3na2NgcN29eT+OnojwFAOAoKE85Mvfvz+wovQ7K+fMvRGOjj/IeF4uLCzEzc68sW11didXV8qNZeTJtbW1RV1e584bW1dXFyZOn0hioMfuVpxERExOV+f965SkAAEdBecqRuXLl4zQ6MMpTFhcXYnFxMY15Aj09vdHQ0JDGwDG3X3lqYBQAALVOecqRUZ4CQO3brzx1zlMAAGrd9te0dekiZMHJk6eiocFwGQAAAACeniNPOTRXr34S+Xw+jQ/EyMiZ6OzsTGMAoAL2O/K0WgZGne2pj1/9qdb4E6cbolgsRK4YUSwUImLja25z2OBGXoyIYtnXdPvS9z1Vvvv+C5v3I92+UCzE5QfN8V/f6Ikby/4xGADgsDnyFACAA5HPr6TRkfjOL7bFhbp7sXj1ZuQiF8WIiFwuohgb17e+RsRGg7nxZetrsfSHYuS2vpbyXGzsYOPr9v0Xi8ntbO0/uZ1ibOy37Ha28sjFK53L8X8dvfPwAQEAcCSUpwAAVExf30AaHbq6XERT/UZxmcvlorhZTG42phuF5abyfHP7Ur6tEN0sQnNRXpxGLrdZeJYXraX9RURxYweloLT/0v42b6fs/uaita4QdVsbAgBwJJSnZE5XV3e0tbWlMQBwCJqaWtLo0BWKER/fj2g9fSJaz53eLES3Cs/NwnLT1hGjpeXSEaDbG9SNrxtHkm4Wo8Vi5MqOMN3cwfb9lfrXrSNStx95uu0ebBauG0fEPjwi9fpyUxQebggAwBFQnnIobt++eWjnO62vr4/6+vo0BgCOkb/9B0vx0e38ZlG5UUxuP/J0q6B8eITpxvLDI0M3/7BVtJaOMN0qWjeKztL+SjvYfuTpw/1vHJG6x/43GtaH+4mI7y80x9+91bP5aAAAOCoGRnEobt++GfPzc2l8IHp7+2JoaDiNAYAKqYWBUQAA8LQMjCKzGhoaorXVR/YB4KhUy8AoAACoBOUpmdLY2BSdnV1pDAAckmoYGAUAAJWiPOXAzc7ej4WF+TQGADKoGgZGAQBApShPOXCFwvrGQAUAAAAAqCHKUzKlrc35TgHgKE1P300jAACoWcpTDlQ+v3qoH9kfGBhKIwDgEBkYBQBAlihPOVD5fD4WFhbSGADIKAOjAADIEuUpAAAVY2AUAABZojzlQK2traXRgRkdfTmNAIBj7Vvx3qUP41Lp8t145810GwAAqlP6Wu7DuPTet7atfzXe+eDh2nsXty1tfm959nSUpxyo8fHbaQQAZFjVDIx68zfjg0tvxMBHvxEXLry2cXl/Ol79pgIVAKD6fSveu/RGnLv2/sPXchfej2vn3igVqG++87V4dWpz/e1LMfDGt2OrK7343sbrwC8rTwEAqCZVMzDq3a/H6xdei9ff+u2H2cXvxEdznTH6+le3bwkAQLW5+MU4F3Px0Xd+bVv4a/Gdj+YiBkbizYgY7e+Muekfbiy9OxZT0R8n39z4R/TXz12PD7a/DnwGylMAACrGwCgAAJ7ZlemYS7PElem56Ox/aePKmyMxENMx/m7ExS9diPjoO6WjUJ+V8pRMeP7582kEAByBah4Y9eY7X4tXOyt3FAIAAAfk3a/HB9c649UvbT/H6bfiS692xrUPvh7vRsS7b/1WfDTwxsY5T795Iabe/0pcrPBRpxERudHRl4tpCJVw5crHaXRgnn/+fLS0VO+bNQDIkuHh0zExcSuNIzbXLl/+MI2fyiuvvLbn7Ty2i9+OS2+cjYiIuY9+o/xj/AAAVLdtr+Uirsf7F76y/xGlb3413nz3t+PdNH9C21/TOvIUAICKqZqBUVsufqU0ZOCd+Nouk1gBAKg+34r3Ln0Yl77wvW0Do74XX7j0YWlgVMnFb8elSxvDoi5+6RvxzUsfxqVLH8YH71TmPPfKU2peZ2dXNDY2pjEAcASqZmDULt5962fi/WsR576QvOAGAKCqvPnO63Fu7lK8/eXygVFffvtSzJ17Pd55cyv7arzz+tm49v5X4uLFb8cbA5fi7QuvxYUL78fUq1/btt3TU55yIMbGnvEjdk+gtbU16uvr0xgAOALVMzDqq/HmXi+WNye0AgBQnUb7O9Nodxe/FK/GpfjOxYg3T/ZHTI1tfmT/hzE91xn9o+k3PDnnPOVAXL9+NVZWltP4QAwNnYje3v40BgAOSC2c8/Tiex/GG+fm4qO3fybe2jrp1eY5s669/1p8+TE/uj88fLr05637snt2KiJym9ntiCjump04MRK53MbxC5XIhoZGoq5uI7tzZyyKxcIe2cmoq9v4x+ZKZIODJ0v/eD05OR6Fwvoe2XDU1zc8MhsYGI6Gho3s7t3xWF9Ps4lYX1/bIxuKhoamzexOrK/nd836+4eisXEjm5q6E2trj5NNxtra6h7ZYDQ2NkdExPT0ZOTzu2d9fYPR1PSk2d3I51d2zXp7B6K5eeNc//fu3Y3V1SfJ+qO5uTUiImZmpmJlZXnXrKenP1paKpd1d/dGa2t7RETcv38vlpcXK5bNzt6LpaXds66unmhr69jMZmJpaeGZss7Onmhv38gePJiJxcWF6Ozsjvb2jTf4Dx7cj8XF+WfKOjq6o6NjI5ubux8LC3tlXdHR0bWZzcbCwtwjs/n5BzE//2DXrL29Mzo7ux8j64jOzp7NbC7m52d3zdraOqKrayNbWJiLubknydqjq6t3M5uPubn7u2atre3R3b2RLS7Ox4MHz5q1RXd3X0RELC0txOzszK5ZS0tb9PRULmtubone3o1/eFxeXor796crlq2sLMXMzHQ0NTVHX9/gZrYcMzNTz5Q1NjZHf/9Gtrq6Evfu3d0ja4r+/qEnyvL5lZie3j1raGiKgYGtbDWmpyf3yBpjYODEI7P6+sYYHNzI1tZWY2pqr6whBgeHN7O1mJqaiPr6+hgcPPnIrK6uPoaGNrL19bW4e/dxsvW4e3d81yyXq4sTJ0YiIqJQWI/JyUpmhZicHNs1i8htvq6JKBYLcedO5bKI4ubrmuQ11k//lfjgmxciys5Z/9V454NvxKtxKd5+/evx7ub1/g82X9td/HZcen16c+1b8d6l12N6+2vBJ+CcpwAAZNrFL78WF96fjle/uXHOq0uXPoxLb/THR28/fnEKAMAReffr8fqF92Pq1W88fC136Rvx6tT7ceH1r8e7EXHxvY3rpdd2F78S709d2Dzn6Rsx8NFvPVVxmnLkKQfisI48bW5uiRMnhqO1tS1dAgAOyH5HnjY2NsfNm9fT+Kk8y5GnAADwtBx5yoGambkX+fxqGh+I5uZmxSkAVJFqHhgFAABPSnlKxS0vL0WhUEhjAOAYqJ6BUQAA8OyUp9SsXC5XGjYAAFSHpqaNATUAAJAFylNqVlNTcwwNbUzBAwAAAIBKU55SUcvLy7Gy4lxnAHBcTU/fTSMAAKhZylMqamVlOVZWltMYADgmDIwCACBLlKcAAFSMgVEAAGSJ8pSKKRQKkc/n0/jAnD17Po0AgCNmYBQAAFmiPKViVldXnecMAAAAgMxQngIAUDH+IRUAgCxRnlKTzpw5m0YAQBUwMAoAgCxRnlKTmpub0wgAqAIGRgEAkCXKUyrms8+uphEAcMwYGAUAQJYoTwEAAAAAdqE8peb09fVHXZ1fXQCoRpUcGLW4uJBGAABw4La/DtVAURHXr/8ojQ5Me3tH5HK5NAYAqkAlB0atra1Fc3NrGgMAwIFpbm6NtbW10nXlKRWRz+fTCAA4hio5MGpmZjpaW5WnAAAcntbW1piZmS5dV55SU5qamqK+vj6NAYAqUcmBUTMz07G+Xoienj5HoAIAcKCam1ujp6cv1tcLZeVpbnT05WLZlvAUPvnkB1EoFNK44vr7B2NgYDCNAYBDNDx8OiYmbqVxxOba5csfpvEz6e3tj76+/qivb4i2tvZ0GQAAnsni4mKsr+fj3r3psuI0lKdUwtTUZExPT6XxgVCeAsDR2688bWxsjps3r6cxAADUJB/b55ktLi6mEQBwTFVyYBQAABw15Sk1I5fLRX29X1kAqGaVHBgFAABHTRPFM1leXo719bU0PhDt7R3R29ufxgBAFankwCgAADhqylOeyfz8XKyurqYxAAAAANQ85SkAABUzPX03jQAAoGYpT6kJdXV1cerUmTQGAKqMgVEAAGSJ8pSntr6+Hmtrh3O+UwCgNhgYBQBAlihPeWqLi4sxOzuTxgDAMWZgFAAAWaI8BQAAAADYhfKUmvDcc2fTCACoQgZGAQCQJcpTnko+vxpjYzfT+MA0N/sIIADUAgOjAADIEuUpAAAVY2AUAABZojwFAKBiDIwCACBLlKdUvRMnTqYRAAAAABw45SlP5caN62l0YNrb29MIAKhSBkYBAJAlylOeytraWhoBABgYBQBApihPqWotLa2Ry/k1BYBaYWAUAABZkhsdfbmYhrCfmZnpmJy8k8YHYmTkTHR2dqYxAHCEhodPx8TErTSO2Fy7fPnDNH5mTU3N8fzz56Orqzs6O7uivr4h3QQAAJ5IobAeDx7MxoMHs/HZZ1djdXXnp6gc0scTm5m5l0YAAAdmaGg4fvzH/8N47rlz0dPTpzgFAKAi6urqo6enL5577lz8+I//h7sOLVeeAgBQMZUeGDU0dDK++MV/PxobG9MlAAComMbGxvjCF/5YDA2VF6jKU6pWfX191Nf7FQWAWlLJgVHNzc3x+c//0TQGAIAD8/nP/9FoamouXddM8UQWFxeiUCik8YHo6uqOtrb2NAYAqlglB0aNjJyJxsamNAYAgAPT2NgUp06dKV1XnvJEZmbuxfr6ehoDAERERFNTSxo9te7unjQCAIADt/11qPIUAIAqlIvOTuUpAACHr7OzOyJyEcpTqlVra1sMDQ2nMQBQ5So3MKoYTU0+sg8AwOHbOOdpMUJ5ypPI5/M+sg8A7KuSA6MAAOCoKU95bPPzD2JpaTGNAQBKKjkwCgAAjpryFACAiqnkwCgAADhqylOq0sjI6TQCAAAAgEOlPOWxLC4uxOTknTQ+MA0NDWkEANSAyg2MAgCAo6c8BQCgYgyMAgAgS5SnVJ3+/sE0AgBqhIFRAABkifKUxzI1dXgfwRsYUJ4CQK0yMAoAgCxRnvJYlpYW0wgAAICj9rVfj3ff/Qfx7tt/Ol0BoAKUpwAAVIyBUQAV9LN/Kf7+u/9goxzdcfn1+FpERFNjNDU1RVNjY/rdAFSA8pSq0tHRkUYAQA0xMAqgghqbor2paaMc3XFpjKZ0ewAqTnnKI01OTqTRgenvH0ojAKCGGBgFcAAW/l38gy/9Unyp7PIr8ffS7QCoOOUpjzQzcy+NAAB2ZWAUQBUY/PH4k7/y6/Hf/j/+UXznO5uXd/9W/LU//e+Vb/azfzb+Ttk2D08L8Pf/ys+UbQtwXClPAQAAIEMGf/6N+Pk//nz0ti/E5K2xmFyIiKbB+MLP/1L8uT+6udErfzF+7a2fiNPtC3HrD/9l/PM/HIuFpqZoasrH/cmpuH/f0GCAUJ5STYaGTkRLi6NVAKCWGRgFcADan4uf/zv/Vfyd0uVi/LmfTDd66O4//Mfx//x//YP4xpfeij/zF34l/sz//p34w5mIiJF48ac3tvnJn38hhiJi9Yffjb/wX/438bf+y1+J3/3hakS0x8LlX4lf/Xt/kOwV4HhSnrKvBw9m0wgAYE8GRgEchPYYOj0Sp0uXkzHYk26z3b+Nf/LffzcW/uiF+IWv/cX4a2+/EWfbN1Z6B38uIiLaGxsjIiK/er/0XfdX8xER0bi5LQDKUx7h3r3pNAIA2JOBUQAHYMfAqLfir/4P6UbbDP5M/PLfeSd+89d+OX7p516Nl051R1Oyye/9s09jJiLaX/pP4ld+4cfjJ3/hL8bPv9QeEXfj+j9LNgY4xpSnAABUjIFRAEfvT//nvxQ/dbo9Vic/ine+8Uvx5ptvxb+eTDb64B/GP/n+QkTTYPzxX/pz8X/4pVdjqGkhrv3uP4y/9f9LtgU4xpSnVIWuru7o7e1PYwAAAJ7Iz8XZoaaIWIgf/s7fjt+7HhHxXDSmh56+/qfjF77QHjP/6r+Kb/wXfy/+5v/l1+PrX3orvvlb/zbZEOB4U54CAFAxBkYBHJGhPxJ/7U/+eETciPsLERHt8dIvXIxf+eW/FG//txfjp4aS7c/1RG9E9L70i/G//ekL8WM/+TPxS7/8Z+PP/cmfiVfOJtsCHGPKUwAAKsbAKIBD9o//bVxbjYimwfjCj/17EfHv4h/9zv8ck6sRTb0vxB//qf9FnMr/KH7nXyX/uPUP349/PhkRvS/EH/+pn4if2rz89C/+Z/F//o2/F3/tf+Mc1gAREbnR0ZeLaQgRETMz92JqajIKhUK6VHFdXd1x8uSpNAYAqtDw8OmYmLiVxhGbA6M+/vh7afxU/uP/+H+dRgDsZvCPxI+91B2xMBbXLt+IjZr0uXjlJ0eifWEs/sXlG+l3xCt/7r+K//ynB+L2P/tH8U/+cHEjHPoj8bM/+x/EF4aaIq79f+JL3/xH6bcBHBv/4//4/45w5Cn7WV5eOpTiFADIDgOjAI7A3X8X//pf/EH861JxGhFxIy7/iz/YtTiN+Jn4hR8biaaYjdv/+LvxL/7FH2xc/sn78a8n8xERsbDgNCwAoTylGjQ3tzjqFAAA4NB8Ny7fXo2Iwfip3/hb8Tf+yp+NX/7lvxR/4+//evxnX2iPWPh38Y//3u+m3wRwLClPAQCoGAOjAGrDP/nVvx2/84djMRPdcfaP/UT81I/9kTjbvhg//Ffvx9/8xq/H/+Cvc4AI5zxlP+Pjt+PBg9k0rrjm5pY4e/Z8GgMAVWq/c55GRExMjKfRU3HOUwAAjopzngIAUHF9faYzAwCQHcpTdvXgwWzMzT1IYwCAfRkYBQBAlihP2VWxWIxi8XDO6NDU1JRGAAAAAHDklKccuZGR02kEANQoA6MAAMgS5SkAABWTz6+kEQAA1CzlKQAAFVPJgVGzszNpBAAAB27761DlKQAAFVPJgVHz84ZXAgBw+GZn75f+rDxlh+Xl5ZiYGEtjAIBDdfPmZ7G+vp7GAABwYNbX12Ns7GbpuvKUI9XT05tGAEANq+TAqIWF+fjhD/9dGgMAwIG5cuX7sbAwX7quPOVIDQwMpREAUMMqPTBqbOxGfP/7fxj5fD5dAgCAisnn8/G97/2bGB+/XZYrTwEAqJhKDozacufOePzBH/xPcePGtbh//16sr6+lmwAAwFO5f/9e3LhxLf7gD/6nmJycSJcjNzr6cjENOd6Wl5fjs8+upvGBeOGF0aivr09jAKCKDQ+fjomJW2kcsbl2+fKHaQwAADXJkacAAAAAALtQnrLD/fszaQQA8FgqOTAKAACOmvKUHWZnlacAwNOp9MAoAAA4SspTjsypU2ec7xQAMuYgBkYBAMBRUZ5yZOrq/PoBQNY0NbWkEQAA1CztFQAAAADALpSnAABUjIFRAABkifKUMrdu3UgjAIDHZmAUAABZojylzNLSYhoBADw2A6MAAMgS5SlHor9/MNra2tMYAKhxBkYBAJAlylMAAAAAgF0oTwEAqBgDowAAyBLlKQAAFWNgFAAAWaI8peTGjetRKBTSGADgsRkYBQBAlihPOXT19fXR2NiYxgBABhgYBQBAlihPOXStrW3R3d2TxgAAAABQVZSnAABUjIFRAABkifIUAICKMTAKAIAsUZ4CAFAxBkYBAJAlylMiImJlZTnW19fTGADgiRgYBQBAlihPiYiI2dn7sbp68B+zq6uri87OrjQGAAAAgKqjPOVQ1dfXR1dXdxoDABlhYBQAAFmiPAUAoGIMjAIAIEuUpwAAVIyBUQAAZInyFACAijEwCgCALFGeEisry7G4uJjGAAAAAHCsKU+J1dV8rKwsp/GBOHXquTQCADLEwCgAALJEecqham5uTiMAIEMMjAIAIEuUpwAAVIyBUQAAZInyFACAijEwCgCALFGeAgAAAADsQnl6zOXz+bhzZyyNAQCeioFRAABkifL02CvG+vp6Gh6Iujq/bgCQdQZGAQCQJdosDs3Zs+fTCADIGAOjAADIEuUpAAAVY2AUAABZojwFAAAAANiF8hQAgIoxMAoAgCxRnh5zV69+mkYAAE/NwCgAALJEecqhaGtri7o6v24AkHUGRgEAkCXaLA5FT09/1Nc3pDEAkDEGRgEAkCXKUwAAAACAXShPAQCoGAOjAADIEuXpMbayYqADAFBZBkYBAJAlytNj7PbtG2kEAPBMDIwCACBLlKccuLa29mhpMTwCAI4DA6MAAMgS5SkHrrm5ORobG9MYAAAAAKqa8hQAgIoxMAoAgCxRngIAUDEGRgEAkCXK02PqwYPZWF9fT2MAgGdiYBQAAFmiPD2m5uYeRKFQSGMAgGdiYBQAAFmiPOVAtbS0Rn//YBoDAAAAQNVTnnKgcrlc1NfXpzEAkFEGRgEAkCXKUwAAKsbAKAAAskR5CgBAxRgYBQBAlihPAQCoGAOjAADIEuUpAAAAAMAulKcAAFSMgVEAAGSJ8hQAgIoxMAoAgCxRngIAUDEGRgEAkCXKUwAAKsbAKAAAskR5CgAAAACwC+UpAAAVY2AUAABZojwFAKBiDIwCACBLlKcAAFSMgVEAAGSJ8hQAgIoxMAoAgCxRnkKFFArrsb6+/6VYLKbfBgAAAECVyo2OvqzNOYZu374Z8/NzaVxxra1t8dxzZ9M4E+bmyp+/O3fGYn19vSxLDQ6eiMbGpoiIaGpqjOZmR+cAUHuGh0/HxMStNI6IiMbG5rh583oaAwBATVKeHlPK0yc3NVU+PfhZpwm3tLRGe3tHRETkcrno73eOOABqw37laUTExMR4GgEAQE1Snh5TytP9FQqFGB+/XZYd9PPV0dFZdv3UqTNl1wGgWuxXnvb1DcTHH38vjQEAoCYpT48p5Wm5paXFuHXrRllWKBTKrh+2urryUxK/+OLny64DwFHZrzwdHj4dly9/mMYAAFCTlKfH1HErT9fX16NQeHg+0rm5ubh7907ZNrVkcPBEdHY+PFK1rq4+6uvry7YBgIOiPAUA4LhQnh5TWS9PFxcXIp/Pl67Pz88dyuM9Kh0dnaWP/dfV1UVnZ1e6CQBUzH7lqYFRAABkifL0mMpaeXrv3lSsra2Vrs/Pz5WVp8dJXV1ddHf3lGVDQ8Nl1wHgWexXnoaBUQAAZIjy9Jiq9fL01q0bZeckXV5ejmLxaM9RWs1aW9tKfx4ZOR0NDQ1l6wDwJPYrTw2MAgAgS5Snx1StladXrnycRlTIyMiZsvOnAsCj7FeeOucpAABZojw9pqqpPC0UCrG6ulqWffbZ1bLrHI6Ojo7o7x8qXa+ry0VTU3PZNgCgPAUA4LhQnh5TR1merq6uxsLCw9vO59diZma6bBuqQ0NDQ/T19Zeu9/Y+/DMAx9d+5amBUQAAZIny9Jg6zPK0v38gHjyYLWVra/lYXFws247a0NXVXXb9xImTUVdXV5YBkH37ladhYBQAABmiPD2mDqs8zeXqor6+LtbW1tIlMqC5uTkichER0dfXv6NcBSCb9itPDYwCACBLHDLGgSoWC4rTDFtZWYmVleVYWVmO8fHbceXKx6XLnTvjsb6+XroAcDw0NbWkEQAA1CzlKXAg7t+fiU8/vRKffnolfvSjT2JxcaHsAgAAAFDtlKfAgSsWC3Hz5mdll6mpu6VLPr+afgsANWp6+m4aAQBAzVKeAkdievpu6TI+Pha3b98sXRyZClC78vmVNAIAgJqlPAWO3NLSYszPz5UuY2O34urVT+Lq1U9ibGz3gSQAVKe+voE0AgCAmqU8BarO+vp65PP5yOfzMTf3oGwQ1Y9+9MPI51dLFwCqi4FRAABkifIUqClra2tx9eqnpcvc3FzZZX19Pf0WAAAAgKeiPAVq2tjYzbLL3buTpUFUzp0KcPgMjAIAIEuUp0CmzM7OlAZRTUyMxY0b1+PGjevOnQpwSAyMAgAgS5SnQGbl8/lYWlqMpaXFmJt7EJ988oO4f/9euhkAFWRgFAAAWaI8BY6NQqEQd+5MxJUrH8fy8nKsrjo6CqDSDIwCACBLlKfAsfTZZ1fj5s0bsbS0mC4BAAAARChPgeNsbS0fExPjsbS0lC4B8JQMjAIAIEuUp8fQgwezppAfoLa2tnj++fOlC9VtdXUlxsZuxfXrV9MlAJ6CgVEAAGRJbnT05WIakm0zM9MxOXknjXlKvb19MTQ0nMZ7unLl4zSiStTV1cWLL34+jQFIDA+fjomJW2kcsTkw6uOPv5fGAABQk5Snx5Dy9Mk0N7dEXd3Dg7R7e/uis7OrbJunNT09FQsL86Xra2v5yOfzZdtw+Lq6umNo6ETU1zekSwA8ojwdHj4dly9/mMYAAFCTlKfHkPJ0f93dPWVlaU9PXzQ1NZVtc1AWFuZLZWqhUIjZ2fvpJhyS7u6eGBo6EXV19ekSwLGnPAUA4LhQnh5DytNyw8MjZdc7O7vKytOjUigUYm7uQVk2MTFWdp2D1dHRGY2NTTE0dCJdAjjW9itPGxub4+bN62kMAAA1SXl6DB338vT8+RfKrjc2Hs5RpZWQz6+W/nzjxvVYW1srW+dgdHf37CjZAY6z/crTiIiJifE0AgCAmqQ8PYayXp5uP2q0rq4+Pve5F8vWs2p8/HbMz89FRESxWIxi0X/alXbq1Jno6OhMY4BjZ7/y1MAoAACyRHl6DGWpPG1oaIyWlpbS9ebm5hgYGCrb5jhaXFyImZl7peuFwnosLi6WbcPTOXnyVHR1dacxwLGyX3nqnKcAAGSJ8vQYquXytLW1Ldra2kvXm5tborPTkYCPsra2Fvfvz5SuT0/fLVvnyfT3D/rdA4415SkAAMeF8vQYqqXytK9vIFpaWkvXm5uboqmpuWwbntzc3MbH+7eMj9/yMf8n1NDQGCdPjpSV+QDHxX7lqYFRAABkifL0GCoWi3H79s1YWJhPl47cmTNno7n5YTlaV1cXuVyubBsqb319vfTnqanJsqNU2Vsul4tcLhcvvvj5dAkg0/YrT8PAKAAAMkR5ekzdvn2zNFzosDU2Npb+fPbs+airqy9bp7rMzt4vfcy/WIxYW8unmxx7dXV1ce7cC9HQ0JAuAWTSfuWpgVEAAGSJ8vSYmpm5F3fvTkaxWEiXDkxHR2c0NjbF0NCJdIkaUSgU4s6d8qOJHjyYLbt+XDU1NUVf30C0tbWX/QMBQBbtV5465ykAAFmiPD3GZmfvx8TEWBpXXGtrW3R2dkZ3d4+jTDNoZmZ6259nIp9fLVs/btrbO+LkyVNRX+93Hcgu5SkAAMeF8vSYu3Ll4zSqqDNnno+GhsZoampKl8ig5eXlKBQenj/13r2pWFhYKNvmOGhpaY3GxsYYGTmdLgFkwn7lqYFRAABkifL0mMvnV+Pq1U/T+Jk9//z5aGlpSWOOscXFhbh587M0zrSOjs44depMGgPUvP3K0zAwCgCADFGeEouLCzE5eSdWV1ef+hyozc3NEZGLjo6OGBgYSpdhh7W1fNy6dbN0fWVluWw9S06cOBnd3T2Ry+XSJYCatF95amAUAABZojylZGOI1J0oFh//V6KlpTVaW1tjYGAo6urq0mV4bJOTE2XXHzyYjfX1h6cAqHUDA0PR3z+QxgA1ab/y1DlPAQDIEuUpZR48mI1isRhLS4sxO3s/XS6pr6+PwcET0dzc4uP5HIj5+blSeTo/Pxfz83PpJjWnq6s7WlvboqenN10CqCnKUwAAjgvlKbtaX1+PfD6fxiW5XG7zo/pw8NbW1mJtba10fXFxIe7evVO2Ta2oq6uPkydHoqOjM10CqBn7lacGRgEAkCXKU6DmffLJD6JYLD7RKSeqwQsvjEZ9fX0aA1S9/crTMDAKAIAMcZJKoOa9+OLn49SpM1Ff35AuVbUf/eiTWF7O7qAs4Hjq63N+ZwAAskN5CmRCe3tHnDhxMvr7B9OlqlUsFmJs7GZMTd2N1dWVdBmgJjU1ORc6AADZoTwFMqOzszMGBgbj5MlT6VLVyufzMT19N8bHx8rO6woAAAAcPeUpkDmdnV01VaBGRCwvL8Vnn12NGzcMWQFq2/T03TQCAICapTwFMieXy0VXV3eMjr4c3d096XLVWltbi6Wlxbh587NYX19PlwFqQj7vNCQAAGSH8hTItOHhkeju7om2tvZ0qWotLi7EnTvjMTc3F8ViMV0GqGoGRgEAkCXKUyDzhodHYmTkdHR2dqVLVWtu7sHmMKnJdAmgqhkYBQBAlihPgWOhvr4+TpwYjo6OznSpqt27Nx03blyP6empdAkAAAA4YMpT4Nior2+IkydPxQsvjKZLVW1paTGmp+/Ggwez6RJA1TEwCgCALFGeAsdKXV1d1NfXx+joy9Hc3BINDY3pJlWpWCzG+PjtePBgNpaXl9NlgKphYBQAAFmiPAWOrbNnz8fIyKlobGxKl6rW+Pjt+Oyzq7GwMJ8uAVQFA6MAAMgS5SlwrLW2tsWJE8MxNHQiXapqExNjMTk5ESsrjkIFqouBUQAAZInyFDj22ts7ore3P86cOZsuVa21tbWYmbkXt2/fjLW1fLoMAAAAVIDyFGBTW1tbnDnzfBpXtXw+Hz/60Sdx9eon6RLAkTAwCgCALFGeAmzT1tYeo6MvR3//QORyuXS5auXz+bhx43rk86vpEsChMjAKAIAsUZ4C7GJgYCj6+gaiu7snXapaS0uLcefOeMzMTEexWEyXAQ6FgVEAAGSJ8hRgDwMDgzE0NBw9PX3pUtVaWFiIyck7MT5+O10COBQGRgEAkCXKU4B91NXVxeDgUE0dgRoRMTf3IK5e/SQmJ++kSwAAAMBjUp4CPEJdXV0MD4/E6OjL0dDQmC5XrXw+HzMz03H//j0f4wcOjYFRAABkifIU4Al87nMvRkdHZzQ3187HUu/cmYiZmXsxNzeXLgFUnIFRAABkifIU4AmdOnUmhodHaqpAvXv3ToyN3YzZ2fvpEkBFGRgFAECWKE8BnkJLS0sMD5+Mxsba+Rh/bJaot2/fjKWlpXQJoCIMjAIAIEuUpwBPqaWlNc6e/VycP/9iulS11tfXY35+Lm7evB75fD5dBgAAALZRngI8g7q6umhsbIznnjsbjY2Nkcvl0k2qUrFYjKtXP4l8fjXW1tbSZYCnZmAUAABZojwFqIDW1rY4f/7FGBw8Eblc7fzVevXqp3Hr1o1YXl5OlwCeioFRAABkSe28wweoAb29fXHixHAaV7WVleW4c2c8JicnolAopMsAT6S9vSuNAACgZilPASqsu7snzpx5PgYGBtOlqrW8vBQzM/fi1q0b6RLAE+nsVJ4CAJAdylOAA9DW1h79/YPR29uXLlW1paXFNAIAAIBjS3kKcICGhoZjdPTlaG1tS5eq1rVrn0Y+n09jgMcyN/cgjQAAoGYpTwEOwXPPnY3e3r5oa2tPl6rO6upqTE1NpjHAY1lYUJ4CAJAdylOAQzI0NBwnTpysiaNQl5aWYmFhPo0BHsnAKAAAskR5CnCImpqa4uTJU9HU1JQuVZV8fjUmJsZidXUlXQLYl4FRAABkifIU4JA1NjbGuXMvxAsvjEYuV71/Da+trcXa2noaAwAAwLFRve/aATKuvr4+nnvubLS2tkV9fX26XBVu3rwei4sLaQywJwOjAADIEuUpwBFqaWmJ5547G0NDw1FXV51/Jd+8+VkaAezJwCgAALKkOt+pAxwzXV3dMTJyOo2rxtTUZBoB7MrAKAAAskR5ClAl2ts74vz5F+LEiZPp0pG7d286pqbupjHADgZGAQCQJcpTgCrS2NgUPT29MTR0IhobG9PlI1MsFmNtLR+FQiFdAgAAgMxSngJUod7e/jh//sXo6upOl47M7Oz9WFgwPArYn4FRAABkifIUoIqdPHkqurt70/jIzM3Nxvr6ehoDlBgYBQBAlihPAarc0NCJOHPm+Whvb0+XDt3c3IO4detGGgOUGBgFAECWKE8BqlxdXV20tbXHyMiZaG5uTpcP3fLyUhoBlBgYBQBAlihPAWpEXV1dnD37uRgdfTkaG5vS5UP1ySc/iHx+NY0BAAAgU5SnADXo9Okz0dXVHQ0NjenSoSgUCjE5eSeNAQyMAgAgU5SnADWoqak5Tp48FSdODEddXX26fChWVpZjYWE+jYFjzsAoAACyRHkKUMM6OjrjuefOpvGhyOfzMT4+5hyoQBkDowAAyBLlKUCNO8ohUuvra1EoFNIYOMYMjAIAIEuUpwAZ8LnPvRRNTUdTot68+VnMz8+lMQAAANQ85SlABjQ0NMTAwFAaH5rbt2+mEXBMGRgFAECWKE8BMqKlpSU6OjrT+NBMTU2mEXAMGRgFAECWKE8BMqKxsTGGh0eipaU1XToU9+5Nx+TknTQGjhkDowAAyBLlKUCG1NfXR319fRofimKxGGtr+SgWi+kScIwYGAUAQJYoTwEy5vTp56Ku7mj+ep+bexD3799LYwAAAKhJR/PuGoAD1dc3kEaHZmFhPtbW1tIYOCYMjAIAIEuUpwAZ1N8/EIODJ9L4UCwsLMT4+K00Bo4JA6MAAMgS5SlARrW1tafRoVlcXEwj4JgwMAoAgCxRngJkVEtLS4yMnI5c7mj+qr9y5WMf34djyMAoAACy5GjeUQNwKDo7u6KzszOND83YmI/vAwAAULuUpwAZ19XVHQ0NDWl8KPL5VcNj4Jjx3zwAAFmiPAXIuPb2jjh16kwaH4q1tbWYnJyIhYX5dAnIKAOjAADIEuUpwDHQ0tKaRodmbW3NuU/hGDEwCgCALFGeAhwTo6MvR2NjUxofiomJsZifd/QpHAcGRgEAkCXKU4BjZHj4ZBodmtu3b6QRAAAAVDXlKcAx0tTUfKRHhd25M55GQMYYGAUAQJYoTwGOkYaGhmhtPbrznz54MJtGQMYYGAUAQJYoTwGOmd7e/ujq6k7jQ1EoFOLWrRtRKBTSJSAjDIwCACBLlKcAx9DJk6eisbExjQ/FwsJ83Ls3ncZARhzlqUEAAKDSlKcAx1Rvb18aHZrFxYXI51fTGAAAAKqK8hTgmOrt7Y+TJ0+l8aFYWlqM8fExH9+HDDIwCgCALFGeAhxj7e0daXRolpYWo1gspjFQ4wyMAgAgS5SnAMdYfX19nD79XNTVHc3/HXz66ZXI5/NpDNQwA6MAAMiSo3m3DEDVaG/viN7e/jQ+NDdvXk8joIYZGAUAQJYoTwGItra2aGxsTONDsb6+HnNzc2kMAAAAR055CkC0tbXHyMiZyOUO//8WCoVCzM87RyJkhYFRAABkyeG/SwagKrW0tEQul6YAT8bAKAAAskR5CkDJiy9+Po0OxYMHszEzM53GQA0yMAoAgCxRngJQpqOjI40AHpuBUQAAZInyFIAyJ06MKD8AAABAeQpAqqGhIdrbHX0KPB0DowAAyBLlKQA7dHf3RG9vXxoDPJKBUQAAZInyFIBdDQ0NR3NzSxoD7MvAKAAAskR5CsCeurqUIMCTcc5kAACyRHkKwJ76+gbSCAAAAI4N5SkAABVjYBQAAFmiPAUAoGIMjAIAIEuUpwAAVIyBUQAAZInyFACAijEwCgCALFGeAgAAAADsQnkKAEDFGBgFAECWKE8BAKgYA6MAAMgS5SkAABVjYBQAAFmiPAUAoGIMjAIAIEuUpwAAAAAAu1CeAgBQMQZGAQCQJcpTAAAqxsAoAACyRHkKAEDFGBgFAECWKE8BAKgYA6MAAMgS5SkAAAAAwC6UpwAAVIyBUQAAZInyFACAijEwCgCALFGeAgBQMQZGAQCQJcpTAAAqxsAoAACyRHkKAAAAALAL5SkAABVjYBQAAFmiPAUAoGIMjAIAIEuUpwAAVIyBUQAAZInyFACAijEwCgCALFGeAgAAAADsQnkKAEDFGBgFAECWKE8BAKgYA6MAAMgS5SkAABVjYBQAAFmiPAUAoGIMjAIAIEuUpwAAAAAAu1CeAgBQMQZGAQCQJcpTAAAqxsAoAACyRHkKAEDFGBgFAECWKE8BAKgYA6MAAMgS5SkAAAAAwC6UpwAAVIyBUQAAZInyFACAijEwCgCALFGeAgBQMQZGAQCQJcpTAAAqxsAoAACyRHkKwJ7W1vJpBAAAAMeG8hSAXS0tLcVnn11PY4B9GRgFAECWKE8BKLO2lo/JyYm4c2fckafAEzMwCgCALFGeAlDm9u2bMTNzL1ZWltMlgEcyMAoAgCxRngIQERE3blyPK1c+juVlpSnw9AyMAgAgS5SnAMdYsViM5eXlmJgYj6WlxXQZAAAAjjXlKcAxdu/edHz22dWYnZ1JlwCeioFRAABkifIU4BiambkX4+O3Y2pqMl0CeCYGRgEAkCXKU4Bj5sGD2ZiamowHD2bTJYBnZmAUAABZojwFOAYKhUKsr6/HlSsfx/j47SgUCukmABVhYBQAAFmiPAXIoKWlxVhcXChdrl+/Gp9+eiXdDAAAANhHbnT05WIaAlA7ZmamY329/EjSe/emolisnb/em5tb4sSJ4WhtbUuXgCo0PHw6JiZupXHE5sf2f/Qj/1gDAEA2KE8Basjk5ETk8/mybGFhvqaK0t10dXXHyZOn0hioUvuVpxERExPjaQQAADVJeQpQpcbGbsXy8lJZtra2VvNFaaqhoSHOnj0f9fUN6RJQpfYrTx15CgBAlihPAY7A2lq+rASdmBiPxcWFsm2Oi9bWtnjuubNpDFSx/crT4eHTcfnyh2kMAAA1ycAogAO2tLQYc3NzZZcbN67H1aufli7HtTiNCMUpAAAAVcuRpwAV9ODBbKyuribZ/R3nKWVDX19/DA6eSGOgyu135KmP7QMAkCXKU4BnMDExVlaWrq6uxPr6etk27G5o6ET09PRFLpdLl4Aqt195GgZGAQCQIT62D/CEVlaW45NPfhCffPKDmJ29H0tLi6WL4vTx9PX1K04ho9rbu9IIAABqlvIUYB/FYjGWl5djeXk5Pvvsaly58nFcv341CoVCFAqFdHMeobW1LUZHX47BwROKU8iozk7lKQAA2aE8BdjF4uJCzM7ej5mZe/HZZ1fjs8+uxvLycroZj6m1tS26uroNhwIAAKCmKE8BNk1OTpQuExNjMTExFnfv3kk34wm1trbFiRMn4+TJU+kSkEFzcw/SCAAAapaBUcCxNj8/F1NTdyM2z2VKZT3//PloaKiPhobGdAmoYQZGAQBwXDjyFDiWrlz5OK5c+Thu374ZKyvLitMKe/758zE6+nK0tLQoTuGYMTAKAIAsUZ4Cmbe0tBiLiwsxPX23VJpSeblcXbS2tsXIyOloaWlJl4FjwsAoAACyRHkKZFI+n4+ZmemYmZmOW7duxs2bn5U+ns/BGBgYiOeeO6s4AQAAIDOUp0CmTE1Nxvj47bhzZywmJ+/E5OSdKBTW082ooL6+/hgeHom+voF0CTiGDIwCACBLlKdAzVtZWYmrVz+Jq1c/iXv3puPBg9lYWFhIN+MA9Pb2RX//YHR396RLwDG1sKA8BQAgO5SnQE1ZX18vXW7cuB5Xrnwc16//KPL5fOTz+SgWi+m3cAAaGhpjdPTlGBoajro6/1cCPGRgFAAAWeIdL1D1VldXYm5uLubm5uLTT6+ULktLi+mmHLCWltbo6OiMz33uxXQJIMLAKAAAMkZ5ClStqam7MTV1NyYmxmNs7GaMjd1MN+EQtbS0xsmTI3Hq1Jl0CQAAADJJeQpUlfn5ubh9+2bcvn0zpqfvxvT0XUeYVoGRkTMxPHwympqa0yWAMgZGAQCQJbnR0ZedIBA4cp988oOIiCgWi85bWkXOnDkbzc3NUV9fny4Bx9jw8OmYmLiVxiUTE+NpBAAANUl5yrG2trYxYOjq1U/TpR3On38hjaKxsSmN2GZ9fS0KhUIaR0TE2tpa3LhxPY2pArlcLhoaGqK/fzC6u3vSZYB9y9P29q740Y+upDEAANQk5SnH0urqaiwtLcbU1N1YW8uny49teHik7Houl4uuru6yLOsKhcKeH9Gcnb3vI/c1prOzK5qammJgYChdAijZrzwdHj4dly9/mMYAAFCTlKccO+vr6zE2disWFxfSpWeWy+Wip6c3jaOlpbXmS9WpqbtRKKyncRQKhZidvZ/G1JDm5ubSEaY9PX2Ry+XSTQDKKE8BADgulKccO599di2Wl5fS+EDV1zdEU1P5R/w7O7uit7evLDtKa2trMTa2+xvhiIjl5SXnIs2A5uaWGBo6UZbV19dHc3NLWQawn/3KUx/bBwAgS5SnHCuffPKDPc/BWQ36+wdjYGAwjSvq6tVPIp9/+lMVUDuam1vi7NnzaQzwzPYrT8PAKAAAMkR5yrGwtrYWt2/fiOXl5XSpJpw8eSqamprTeE/z83MxPX03jcmQ9EjRhoaGOH36ubIM4KDsV5468hQAgCxRnnIsTE3dVSZSs+rr63ecM3doaLjsOsBh2q88dc5TAACypC4NIGuWl5difn4ujaEq1dfXx/DwyI7L0NBw2QUAAAA4eI48JfPm5uZibOxmGsORq6urizNnzpZluVwumpsf/xQNAEdhvyNPfWwfAIAsUZ6Saevr6/Hpp97AcTTq6soP7m9ubonnnisvSwFq0X7laRgYBQBAhihPyTTlKYetqak56uvro6GhIUZGTqfLAJmwX3nqyFMAALLEOU8BnlEul4v+/sHo7x+MU6dOx3PPnVWcAsdWZ2dXGgEAQM1SngI8pZ6evhgZORMjI6djYGAwBgYGo6nJ+UoBAAAgK5SnAE/g7Nnzcf78C3H+/AsxODgUnZ2d0dHRmW4GcGzNzT1IIwAAqFnKU4A9NDQ0RGNjY3R398To6MsxOvpyNDe3RGNjUzQ2Nu0YCAVAxMKC8hQAgOzwzh9gm/r6+ujo2Dia9Pnnz8f58y/G8PBIuhkAe2hvd85TAACyQ3lKpuVyOYMreCzd3b3R3z8Yg4Mn4tSpM3Hq1JloaGhINwPgEfz/LgAAWaI8JdPq6uqis7M7jSEiIhobm+LMmefjzJnnY2joRAwMDEZ3d0+6GQAAAHBMKU+BY+fUqTPxwgujcfbs+Whra4+2tnbnLwWoEAOjAADIEm0BmdfZ2RknTpyMXM6v+3HU2NgYzc0t0d7eURr61NHRGfX19QpTgANgYBQAAFmiOeBY6OnpjZaWljQmo7q6ukuXkZHTcfbs+Th9+rl0MwAOgIFRAABkifKUY6O3ty9yuVwakxEtLa0xNHQihoZOxMmTp0qXlpbWdFMADpCBUQAAZInylGOjs7Mrnn/+XBpT455//nw8//z5GBk5Hb29/dHb259uAgAAAPBUlKccK83NLXH+/AtpTI3p6Ogsnb+0paUlWlpaorGxMd0MgCNgYBQAAFmSGx19uZiGcBzMzNyLubkHsbS0mC5RRerq6qK5eeN8tSMjp6OhoSHdBIBDNjx8OiYmbqVxycTEeBoBAEBNUp5y7E1OTpT+vLCwEKurK2XrHI2uru6or6+Pxsam6O3tS5cBOEL7laft7V3xox9dSWMAAKhJylPYZmlpMVZXV8uye/emdmRURnNzy57FaEdHZ9TX16cxAFVgv/J0ePh0XL78YRoDAEBNUp7CI6ytrUWxWCjLbt266QjVJ7DXeWZzuTofwweoQcpTAACOC+UpVMj16z+KfD6fxlEolBevtayubvcZcx0dnXHy5Kk0BiCj9itPfWwfAIAsUZ7CAbt9+2Yaxfz8XBpVjebm5mhsbErjiIg4depMGgFwDO1XnoaBUQAAZIjyFI7A1NTdsuvFYiHu3Zsuyw5Sf/9gGpW0t7dHa2tbGgNAyX7lqSNPAQDIEuUpVIFisRjz8/Nl2fr6Wty58/RH7nR390R7e2caR0REZ+fuOQA8jv3KU+c8BQAgS5SnUKWKxeKu50u9f38mpqYmIzbPQXr+/IvpJhGba7lcLo0B4JkpTwEAOC6UpwAAPJH9ylMf2wcAIEv+/5ej05Hp3feuAAAAAElFTkSuQmCC)"
      ],
      "metadata": {
        "id": "Bec2L3lXj51T"
      }
    }
  ]
}